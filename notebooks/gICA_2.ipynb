{
 "cells": [
  {
   "cell_type": "markdown",
   "id": "d3663289",
   "metadata": {},
   "source": [
    "# compute the ICA for denoising"
   ]
  },
  {
   "cell_type": "code",
   "execution_count": null,
   "id": "ccc6d09e",
   "metadata": {},
   "outputs": [],
   "source": [
    "import sys\n",
    "import os\n",
    "import mne\n",
    "# Add the workspace root to the Python path\n",
    "mne.set_log_level('WARNING')\n",
    "workspace_root = os.path.abspath(\"..\")\n",
    "if workspace_root not in sys.path:\n",
    "    sys.path.append(workspace_root)\n",
    "from functions import preprocess, behaviorAnalysis, get_noisyICs\n",
    "from Pipeline import pre_gICA, ICA_denoise\n",
    "ids = [601,602,603,604,605,606]\n",
    "\n",
    "def ICA_presubject(ids):\n",
    "    workspace_root = os.path.abspath(\"..\")\n",
    "    if workspace_root not in sys.path:\n",
    "        sys.path.append(workspace_root)\n",
    "    from functions import preprocess, behaviorAnalysis, get_noisyICs\n",
    "    from Pipeline import pre_gICA, ICA_denoise\n",
    "    for id in ids:\n",
    "         ICA_denoise(id, lowPassFilter = 30, n_components=0.98, decim=2, ica_name = 'ica_infomax_LpF', overwrite = False)\n",
    "    return\n",
    "# submit with submitit one job \n",
    "from submitit import AutoExecutor\n",
    "executor = AutoExecutor(folder=\"logdir\")\n",
    "executor.update_parameters(cpus_per_task=4,  mem_gb=14, timeout_min=600)\n",
    "job = executor.submit(ICA_presubject, ids)"
   ]
  },
  {
   "cell_type": "markdown",
   "id": "39ac8408",
   "metadata": {},
   "source": [
    "# concatenate clean parts"
   ]
  },
  {
   "cell_type": "code",
   "execution_count": 1,
   "id": "94a72b7e",
   "metadata": {},
   "outputs": [],
   "source": [
    "\n",
    "ids = [601,602,603,604,605,606]\n",
    "def dummy(ids):\n",
    "    import sys\n",
    "    import os\n",
    "    import mne\n",
    "    # Add the workspace root to the Python path\n",
    "    workspace_root = os.path.abspath(\"..\")\n",
    "    if workspace_root not in sys.path:\n",
    "        sys.path.append(workspace_root)\n",
    "    from functions import preprocess, behaviorAnalysis, get_noisyICs\n",
    "    from Pipeline import pre_gICA, ICA_denoise\n",
    "    pre_gICA(ids,ica_name = 'ica_infomax_LpF', lowPassFilter_pregICA = 30, noise_type = 'all', file_name = 'groupData_Remall')\n",
    "    return\n",
    "# submit with submitit one job\n",
    "from submitit import AutoExecutor\n",
    "executor = AutoExecutor(folder=\"logdir\")\n",
    "executor.update_parameters(cpus_per_task=4,  mem_gb=14, timeout_min=600)\n",
    "job = executor.submit(dummy, ids)\n"
   ]
  },
  {
   "cell_type": "markdown",
   "id": "d48eb00d",
   "metadata": {},
   "source": [
    "# gICA"
   ]
  },
  {
   "cell_type": "code",
   "execution_count": 1,
   "id": "26790aea",
   "metadata": {},
   "outputs": [
    {
     "name": "stdout",
     "output_type": "stream",
     "text": [
      "Opening raw data file /workspaces/preprocessing_pipline/Data/groupData_Remall.fif...\n",
      "    Range : 2835 ... 745027 =      5.537 ...  1455.131 secs\n",
      "Ready.\n",
      "Reading 0 ... 742192  =      0.000 ...  1449.594 secs...\n"
     ]
    },
    {
     "name": "stderr",
     "output_type": "stream",
     "text": [
      "/tmp/ipykernel_8856/1284565982.py:9: RuntimeWarning: This filename (/workspaces/preprocessing_pipline/Data/groupData_Remall.fif) does not conform to MNE naming conventions. All raw files should end with raw.fif, raw_sss.fif, raw_tsss.fif, _meg.fif, _eeg.fif, _ieeg.fif, raw.fif.gz, raw_sss.fif.gz, raw_tsss.fif.gz, _meg.fif.gz, _eeg.fif.gz or _ieeg.fif.gz\n",
      "  concat_data = mne.io.read_raw_fif(path_concat, preload=True)\n"
     ]
    }
   ],
   "source": [
    "import sys\n",
    "import os\n",
    "import mne\n",
    "# Add the workspace root to the Python path\n",
    "workspace_root = os.path.abspath(\"..\")\n",
    "if workspace_root not in sys.path:\n",
    "    sys.path.append(workspace_root)\n",
    "path_concat = os.path.join(workspace_root, 'Data', f'groupData_Remall.fif')  \n",
    "concat_data = mne.io.read_raw_fif(path_concat, preload=True) \n",
    "def gICA(concat_data):\n",
    "    # compute the ICA\n",
    "    ica = mne.preprocessing.ICA(n_components = 0.98, method= 'infomax', fit_params=dict(extended=True))\n",
    "    ica.fit(concat_data, picks = 'eeg', decim = 2)\n",
    "    ICA_path = os.path.join(workspace_root, 'Data', f'gICA_2.fif')\n",
    "    ica.save(ICA_path, overwrite=True)\n",
    "    return \n",
    "\n",
    "# submit with submitit one job \n",
    "from submitit import AutoExecutor\n",
    "executor = AutoExecutor(folder=\"logdir\")\n",
    "executor.update_parameters(cpus_per_task=4,  mem_gb=14, timeout_min=600)\n",
    "job = executor.submit(gICA, concat_data)"
   ]
  },
  {
   "cell_type": "markdown",
   "id": "e0e1fc89",
   "metadata": {},
   "source": [
    "# plots"
   ]
  }
 ],
 "metadata": {
  "kernelspec": {
   "display_name": "BCLenv",
   "language": "python",
   "name": "python3"
  },
  "language_info": {
   "codemirror_mode": {
    "name": "ipython",
    "version": 3
   },
   "file_extension": ".py",
   "mimetype": "text/x-python",
   "name": "python",
   "nbconvert_exporter": "python",
   "pygments_lexer": "ipython3",
   "version": "3.10.16"
  }
 },
 "nbformat": 4,
 "nbformat_minor": 5
}
