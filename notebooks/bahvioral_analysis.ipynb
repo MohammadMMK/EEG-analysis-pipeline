{
 "cells": [
  {
   "cell_type": "markdown",
   "id": "7f197a64",
   "metadata": {},
   "source": [
    "# response time"
   ]
  },
  {
   "cell_type": "code",
   "execution_count": 1,
   "id": "4a16c8fe",
   "metadata": {},
   "outputs": [
    {
     "name": "stdout",
     "output_type": "stream",
     "text": [
      "Extracting EDF parameters from c:\\Users\\gmoha\\Downloads\\git\\preprocessing_pipline\\Data\\O_602_Def_MM.bdf...\n",
      "BDF file detected\n",
      "Setting channel info structure...\n",
      "Creating raw.info structure...\n",
      "Reading 0 ... 449535  =      0.000 ...   877.998 secs...\n",
      "Extracting EDF parameters from c:\\Users\\gmoha\\Downloads\\git\\preprocessing_pipline\\Data\\O_602_Def_MM.bdf...\n",
      "BDF file detected\n",
      "Setting channel info structure...\n",
      "Creating raw.info structure...\n",
      "Reading 0 ... 449535  =      0.000 ...   877.998 secs...\n"
     ]
    },
    {
     "name": "stderr",
     "output_type": "stream",
     "text": [
      "c:\\Users\\gmoha\\Downloads\\git\\preprocessing_pipline\\functions.py:26: FutureWarning: The 'delim_whitespace' keyword in pd.read_csv is deprecated and will be removed in a future version. Use ``sep='\\s+'`` instead\n",
      "  xyz_data = pd.read_csv(ch_location_path, delim_whitespace=True, skiprows=1, header=None)\n"
     ]
    },
    {
     "name": "stdout",
     "output_type": "stream",
     "text": [
      "Trigger channel Status has a non-zero initial value of 65536 (consider using initial_event=True to detect this event)\n",
      "Removing orphaned offset at the beginning of the file.\n",
      "108 events found on stim channel Status\n",
      "Event IDs: [1 2]\n"
     ]
    },
    {
     "name": "stderr",
     "output_type": "stream",
     "text": [
      "c:\\Users\\gmoha\\Downloads\\git\\preprocessing_pipline\\functions.py:26: FutureWarning: The 'delim_whitespace' keyword in pd.read_csv is deprecated and will be removed in a future version. Use ``sep='\\s+'`` instead\n",
      "  xyz_data = pd.read_csv(ch_location_path, delim_whitespace=True, skiprows=1, header=None)\n"
     ]
    },
    {
     "data": {
      "application/vnd.microsoft.datawrangler.viewer.v0+json": {
       "columns": [
        {
         "name": "index",
         "rawType": "int64",
         "type": "integer"
        },
        {
         "name": "Trial",
         "rawType": "int64",
         "type": "integer"
        },
        {
         "name": "defOnset",
         "rawType": "float64",
         "type": "float"
        },
        {
         "name": "SecWordOnset",
         "rawType": "float64",
         "type": "float"
        },
        {
         "name": "LWOnset",
         "rawType": "float64",
         "type": "float"
        },
        {
         "name": "Respons",
         "rawType": "float64",
         "type": "float"
        }
       ],
       "conversionMethod": "pd.DataFrame",
       "ref": "7e7c81d1-e741-428a-a636-5b8543aefbf8",
       "rows": [
        [
         "0",
         "1",
         "3.8139935870181496",
         "4.78899358701815",
         "5.4279935870181495",
         "6.145546875"
        ],
        [
         "1",
         "2",
         "11.27204985119048",
         "12.10004985119048",
         "12.819049851190481",
         "13.875859375"
        ],
        [
         "2",
         "3",
         "18.727488625",
         "19.500488625",
         "20.522488624999998",
         null
        ],
        [
         "3",
         "4",
         "26.87110048185942",
         "27.49710048185942",
         "28.365100481859418",
         "29.2078125"
        ],
        [
         "4",
         "5",
         "33.85903273809524",
         "34.635032738095234",
         "37.025032738095234",
         "37.8959375"
        ],
        [
         "5",
         "6",
         "42.818062996031756",
         "43.49106299603175",
         "45.03406299603175",
         "46.12203125"
        ],
        [
         "6",
         "7",
         "51.091578125",
         "51.874578125",
         "52.910578125",
         "54.009078125"
        ],
        [
         "7",
         "8",
         "58.91636142998867",
         "59.99836142998867",
         "60.73036142998867",
         "62.803515625"
        ],
        [
         "8",
         "9",
         "67.02405452806123",
         "67.58605452806123",
         "68.26205452806123",
         null
        ],
        [
         "9",
         "10",
         "74.43063704648526",
         "75.01163704648526",
         "76.38663704648526",
         "77.4484375"
        ],
        [
         "10",
         "11",
         "82.33928199404762",
         "83.35128199404762",
         "84.15628199404762",
         "86.565234375"
        ],
        [
         "11",
         "12",
         "90.51265625",
         "91.05765625",
         "91.43265625",
         "92.76765625"
        ],
        [
         "12",
         "13",
         "97.702421875",
         "98.700421875",
         "99.855421875",
         "101.212421875"
        ],
        [
         "13",
         "14",
         "106.15940777352608",
         "106.89740777352608",
         "107.51540777352608",
         "108.419453125"
        ],
        [
         "14",
         "15",
         "113.2165022675737",
         "113.9235022675737",
         "114.93450226757369",
         null
        ],
        [
         "15",
         "16",
         "121.475765625",
         "122.078765625",
         "123.629765625",
         null
        ],
        [
         "16",
         "17",
         "129.43220610119047",
         "130.22220610119047",
         "130.81520610119048",
         "131.966015625"
        ],
        [
         "17",
         "18",
         "136.90620075113378",
         "137.36520075113378",
         "138.9742007511338",
         null
        ],
        [
         "18",
         "19",
         "145.0805649447279",
         "145.9135649447279",
         "147.2075649447279",
         "148.267265625"
        ],
        [
         "19",
         "20",
         "153.1887220096372",
         "153.8197220096372",
         "154.7807220096372",
         "156.05765625"
        ],
        [
         "20",
         "21",
         "160.69484676162133",
         "161.35884676162132",
         "162.94084676162134",
         "164.046796875"
        ],
        [
         "21",
         "22",
         "168.66850977891156",
         "169.30050977891156",
         "170.02950977891157",
         "171.3253125"
        ],
        [
         "22",
         "23",
         "176.3911442389456",
         "177.19714423894558",
         "177.4241442389456",
         "178.421484375"
        ],
        [
         "23",
         "24",
         "183.54887312216553",
         "184.43187312216554",
         "185.81787312216554",
         "187.032421875"
        ],
        [
         "24",
         "25",
         "192.05820401077096",
         "192.56220401077098",
         "194.02020401077098",
         "194.77171875"
        ],
        [
         "25",
         "26",
         "199.84739625",
         "201.04639625",
         "201.69239625",
         "205.48360625"
        ],
        [
         "26",
         "27",
         "208.0387887967687",
         "209.1017887967687",
         "210.4797887967687",
         "211.842734375"
        ],
        [
         "27",
         "28",
         "216.48011904761904",
         "217.41211904761906",
         "219.05411904761905",
         "220.2075"
        ],
        [
         "28",
         "29",
         "225.122640625",
         "225.528640625",
         "227.807640625",
         "229.773640625"
        ],
        [
         "29",
         "30",
         "234.56346053004535",
         "235.09246053004534",
         "235.47646053004536",
         "236.78444375"
        ],
        [
         "30",
         "31",
         "241.67070837499998",
         "242.746708375",
         "243.907708375",
         "245.447359375"
        ],
        [
         "31",
         "32",
         "249.91170989229025",
         "250.73570989229023",
         "252.37070989229025",
         "253.5765625"
        ],
        [
         "32",
         "33",
         "258.71927650000003",
         "259.2442765",
         "260.7512765",
         null
        ],
        [
         "33",
         "34",
         "266.6597167304422",
         "267.1937167304422",
         "268.71871673044217",
         "269.590703125"
        ],
        [
         "34",
         "35",
         "274.55060887896826",
         "275.15160887896826",
         "276.5326088789683",
         "277.861640625"
        ],
        [
         "35",
         "36",
         "282.67571875",
         "283.67171875",
         "284.54171875",
         "285.56021875"
        ],
        [
         "36",
         "37",
         "290.6341367276077",
         "291.25613672760767",
         "292.1491367276077",
         "293.276171875"
        ],
        [
         "37",
         "38",
         "297.92328993055554",
         "299.03828993055555",
         "299.7532899305556",
         "301.062734375"
        ],
        [
         "38",
         "39",
         "305.7956994047619",
         "306.4566994047619",
         "307.8786994047619",
         "309.3009375"
        ],
        [
         "39",
         "40",
         "314.28791489512474",
         "315.0779148951247",
         "316.3899148951247",
         null
        ],
        [
         "40",
         "41",
         "322.52785413123587",
         "322.93085413123583",
         "324.49685413123586",
         "325.908046875"
        ],
        [
         "41",
         "42",
         "330.56973362499997",
         "331.411733625",
         "332.174733625",
         "334.274890625"
        ],
        [
         "42",
         "43",
         "338.3768255",
         "339.11882549999996",
         "339.8908255",
         "341.8383125"
        ],
        [
         "43",
         "44",
         "346.55073465844674",
         "347.54873465844673",
         "348.37573465844673",
         "350.380859375"
        ],
        [
         "44",
         "45",
         "354.424872803288",
         "355.118872803288",
         "356.518872803288",
         "357.72015625"
        ],
        [
         "45",
         "46",
         "362.83293810232425",
         "363.79193810232425",
         "364.3989381023243",
         "366.260428125"
        ],
        [
         "46",
         "47",
         "370.30571836026076",
         "370.8047183602608",
         "371.96971836026074",
         null
        ],
        [
         "47",
         "48",
         "377.68188474348074",
         "378.4258847434807",
         "379.4358847434807",
         "380.980346875"
        ],
        [
         "48",
         "49",
         "385.7215601969954",
         "386.47456019699547",
         "387.18156019699546",
         "388.732421875"
        ],
        [
         "49",
         "50",
         "393.127395479025",
         "393.66439547902496",
         "394.98439547902495",
         null
        ]
       ],
       "shape": {
        "columns": 5,
        "rows": 108
       }
      },
      "text/html": [
       "<div>\n",
       "<style scoped>\n",
       "    .dataframe tbody tr th:only-of-type {\n",
       "        vertical-align: middle;\n",
       "    }\n",
       "\n",
       "    .dataframe tbody tr th {\n",
       "        vertical-align: top;\n",
       "    }\n",
       "\n",
       "    .dataframe thead th {\n",
       "        text-align: right;\n",
       "    }\n",
       "</style>\n",
       "<table border=\"1\" class=\"dataframe\">\n",
       "  <thead>\n",
       "    <tr style=\"text-align: right;\">\n",
       "      <th></th>\n",
       "      <th>Trial</th>\n",
       "      <th>defOnset</th>\n",
       "      <th>SecWordOnset</th>\n",
       "      <th>LWOnset</th>\n",
       "      <th>Respons</th>\n",
       "    </tr>\n",
       "  </thead>\n",
       "  <tbody>\n",
       "    <tr>\n",
       "      <th>0</th>\n",
       "      <td>1</td>\n",
       "      <td>3.813994</td>\n",
       "      <td>4.788994</td>\n",
       "      <td>5.427994</td>\n",
       "      <td>6.145547</td>\n",
       "    </tr>\n",
       "    <tr>\n",
       "      <th>1</th>\n",
       "      <td>2</td>\n",
       "      <td>11.272050</td>\n",
       "      <td>12.100050</td>\n",
       "      <td>12.819050</td>\n",
       "      <td>13.875859</td>\n",
       "    </tr>\n",
       "    <tr>\n",
       "      <th>2</th>\n",
       "      <td>3</td>\n",
       "      <td>18.727489</td>\n",
       "      <td>19.500489</td>\n",
       "      <td>20.522489</td>\n",
       "      <td>NaN</td>\n",
       "    </tr>\n",
       "    <tr>\n",
       "      <th>3</th>\n",
       "      <td>4</td>\n",
       "      <td>26.871100</td>\n",
       "      <td>27.497100</td>\n",
       "      <td>28.365100</td>\n",
       "      <td>29.207812</td>\n",
       "    </tr>\n",
       "    <tr>\n",
       "      <th>4</th>\n",
       "      <td>5</td>\n",
       "      <td>33.859033</td>\n",
       "      <td>34.635033</td>\n",
       "      <td>37.025033</td>\n",
       "      <td>37.895938</td>\n",
       "    </tr>\n",
       "    <tr>\n",
       "      <th>...</th>\n",
       "      <td>...</td>\n",
       "      <td>...</td>\n",
       "      <td>...</td>\n",
       "      <td>...</td>\n",
       "      <td>...</td>\n",
       "    </tr>\n",
       "    <tr>\n",
       "      <th>103</th>\n",
       "      <td>104</td>\n",
       "      <td>832.570877</td>\n",
       "      <td>833.096877</td>\n",
       "      <td>833.996877</td>\n",
       "      <td>835.291172</td>\n",
       "    </tr>\n",
       "    <tr>\n",
       "      <th>104</th>\n",
       "      <td>105</td>\n",
       "      <td>840.429684</td>\n",
       "      <td>840.822684</td>\n",
       "      <td>842.633684</td>\n",
       "      <td>844.041934</td>\n",
       "    </tr>\n",
       "    <tr>\n",
       "      <th>105</th>\n",
       "      <td>106</td>\n",
       "      <td>848.851848</td>\n",
       "      <td>849.443848</td>\n",
       "      <td>851.570848</td>\n",
       "      <td>852.612891</td>\n",
       "    </tr>\n",
       "    <tr>\n",
       "      <th>106</th>\n",
       "      <td>107</td>\n",
       "      <td>857.377148</td>\n",
       "      <td>857.844148</td>\n",
       "      <td>858.944148</td>\n",
       "      <td>860.475406</td>\n",
       "    </tr>\n",
       "    <tr>\n",
       "      <th>107</th>\n",
       "      <td>108</td>\n",
       "      <td>864.951782</td>\n",
       "      <td>865.522782</td>\n",
       "      <td>866.806782</td>\n",
       "      <td>868.172031</td>\n",
       "    </tr>\n",
       "  </tbody>\n",
       "</table>\n",
       "<p>108 rows × 5 columns</p>\n",
       "</div>"
      ],
      "text/plain": [
       "     Trial    defOnset  SecWordOnset     LWOnset     Respons\n",
       "0        1    3.813994      4.788994    5.427994    6.145547\n",
       "1        2   11.272050     12.100050   12.819050   13.875859\n",
       "2        3   18.727489     19.500489   20.522489         NaN\n",
       "3        4   26.871100     27.497100   28.365100   29.207812\n",
       "4        5   33.859033     34.635033   37.025033   37.895938\n",
       "..     ...         ...           ...         ...         ...\n",
       "103    104  832.570877    833.096877  833.996877  835.291172\n",
       "104    105  840.429684    840.822684  842.633684  844.041934\n",
       "105    106  848.851848    849.443848  851.570848  852.612891\n",
       "106    107  857.377148    857.844148  858.944148  860.475406\n",
       "107    108  864.951782    865.522782  866.806782  868.172031\n",
       "\n",
       "[108 rows x 5 columns]"
      ]
     },
     "execution_count": 1,
     "metadata": {},
     "output_type": "execute_result"
    }
   ],
   "source": [
    "id = 601\n",
    "import sys\n",
    "import os\n",
    "import numpy as np\n",
    "import mne\n",
    "import matplotlib.pyplot as plt\n",
    "import pickle\n",
    "from collections import defaultdict\n",
    "from pyprep.find_noisy_channels import NoisyChannels\n",
    "subject = 602\n",
    "# Add the workspace root to the Python path\n",
    "workspace_root = os.path.abspath(\"..\")\n",
    "if workspace_root not in sys.path:\n",
    "    sys.path.append(workspace_root)\n",
    "from functions import preprocess\n",
    "subject = preprocess(subject)\n",
    "raw= subject.load_data()\n",
    "events = mne.find_events(raw)\n",
    "\n",
    "all_events_time = subject.get_all_events_times(subject_id = 602, events = events)\n",
    "all_events_time"
   ]
  }
 ],
 "metadata": {
  "kernelspec": {
   "display_name": "BCLenv",
   "language": "python",
   "name": "python3"
  },
  "language_info": {
   "codemirror_mode": {
    "name": "ipython",
    "version": 3
   },
   "file_extension": ".py",
   "mimetype": "text/x-python",
   "name": "python",
   "nbconvert_exporter": "python",
   "pygments_lexer": "ipython3",
   "version": "3.10.16"
  }
 },
 "nbformat": 4,
 "nbformat_minor": 5
}
