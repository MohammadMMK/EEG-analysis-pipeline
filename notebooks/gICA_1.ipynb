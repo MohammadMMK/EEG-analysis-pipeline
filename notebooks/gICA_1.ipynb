{
 "cells": [
  {
   "cell_type": "markdown",
   "id": "d3663289",
   "metadata": {},
   "source": [
    "# concanate data "
   ]
  },
  {
   "cell_type": "code",
   "execution_count": null,
   "id": "ccc6d09e",
   "metadata": {},
   "outputs": [],
   "source": [
    "import sys\n",
    "import os\n",
    "import mne\n",
    "# Add the workspace root to the Python path\n",
    "workspace_root = os.path.abspath(\"..\")\n",
    "if workspace_root not in sys.path:\n",
    "    sys.path.append(workspace_root)\n",
    "from functions import preprocess, behaviorAnalysis, get_noisyICs\n",
    "from Pipeline import pre_gICA\n",
    "ids = [601,602,603,604,605,606]\n",
    "concat_data = pre_gICA(ids, lowPassFilter = 30, noise_type = 'blinks', file_name= 'groupData')\n"
   ]
  },
  {
   "cell_type": "code",
   "execution_count": null,
   "id": "26790aea",
   "metadata": {},
   "outputs": [],
   "source": [
    "import sys\n",
    "import os\n",
    "import mne\n",
    "# Add the workspace root to the Python path\n",
    "workspace_root = os.path.abspath(\"..\")\n",
    "if workspace_root not in sys.path:\n",
    "    sys.path.append(workspace_root)\n",
    "path_concat = os.path.join(workspace_root, 'Data', f'groupData.fif')  \n",
    "concat_data = mne.io.read_raw_fif(path_concat, preload=True) \n",
    "def gICA(concat_data):\n",
    "    # compute the ICA\n",
    "    ica = mne.preprocessing.ICA(n_components = 0.98, method= 'infomax', fit_params=dict(extended=True))\n",
    "    ica.fit(concat_data, picks = 'eeg', decim = 2)\n",
    "    ICA_path = os.path.join(workspace_root, 'Data', f'gICA.fif')\n",
    "    ica.save(ICA_path, overwrite=True)\n",
    "    return \n",
    "\n",
    "# submit with submitit one job \n",
    "from submitit import AutoExecutor\n",
    "executor = AutoExecutor(folder=\"logdir\")\n",
    "executor.update_parameters(cpus_per_task=4,  mem_gb=14, timeout_min=600)\n",
    "job = executor.submit(gICA)"
   ]
  }
 ],
 "metadata": {
  "kernelspec": {
   "display_name": "BCLenv",
   "language": "python",
   "name": "python3"
  },
  "language_info": {
   "codemirror_mode": {
    "name": "ipython",
    "version": 3
   },
   "file_extension": ".py",
   "mimetype": "text/x-python",
   "name": "python",
   "nbconvert_exporter": "python",
   "pygments_lexer": "ipython3",
   "version": "3.10.16"
  }
 },
 "nbformat": 4,
 "nbformat_minor": 5
}
