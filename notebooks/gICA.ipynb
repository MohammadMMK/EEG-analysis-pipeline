{
 "cells": [
  {
   "cell_type": "markdown",
   "id": "39ac8408",
   "metadata": {},
   "source": [
    "# concatenate clean parts"
   ]
  },
  {
   "cell_type": "code",
   "execution_count": null,
   "id": "e56e114b",
   "metadata": {},
   "outputs": [],
   "source": [
    "# Load once\n",
    "import sys\n",
    "import os\n",
    "import mne\n",
    "import numpy as np\n",
    "# Add the workspace root to the Python path\n",
    "mne.set_log_level('WARNING')  # Set MNE log level to WARNING to reduce output noise\n",
    "workspace_root = os.path.abspath(\"..\")\n",
    "if workspace_root not in sys.path:\n",
    "    sys.path.append(workspace_root)\n",
    "import pickle\n",
    "ids = [601,604,605,607,608,609,610,611,612,613,614,615,617,618]\n",
    "from Pipeline import concat_data\n",
    "concat_data(ids,ica_name = 'ica_infomax_LpF', lowPassFilter_pregICA = 30, file_name = 'groupData4')"
   ]
  },
  {
   "cell_type": "code",
   "execution_count": 3,
   "id": "2baef6f7",
   "metadata": {},
   "outputs": [
    {
     "name": "stderr",
     "output_type": "stream",
     "text": [
      "C:\\Users\\gmoha\\AppData\\Local\\Temp\\ipykernel_17828\\1972095491.py:2: RuntimeWarning: This filename (c:\\Users\\gmoha\\Downloads\\git\\preprocessing_pipline\\Data\\groupData4.fif) does not conform to MNE naming conventions. All raw files should end with raw.fif, raw_sss.fif, raw_tsss.fif, _meg.fif, _eeg.fif, _ieeg.fif, raw.fif.gz, raw_sss.fif.gz, raw_tsss.fif.gz, _meg.fif.gz, _eeg.fif.gz or _ieeg.fif.gz\n",
      "  concat_data = mne.io.read_raw_fif(path_concat, preload=True)\n"
     ]
    }
   ],
   "source": [
    "path_concat = os.path.join(workspace_root, 'Data', f'groupData4.fif')  \n",
    "concat_data = mne.io.read_raw_fif(path_concat, preload=True) \n",
    "annotation = concat_data._annotations\n",
    "df = annotation.to_data_frame()\n",
    "df = df[df['duration'] != 0]\n",
    "df= df.reset_index(drop=True)"
   ]
  },
  {
   "cell_type": "markdown",
   "id": "d48eb00d",
   "metadata": {},
   "source": [
    "# gICA"
   ]
  },
  {
   "cell_type": "code",
   "execution_count": 1,
   "id": "26790aea",
   "metadata": {},
   "outputs": [
    {
     "name": "stdout",
     "output_type": "stream",
     "text": [
      "Opening raw data file /workspaces/preprocessing_pipline/Data/groupData4.fif...\n"
     ]
    },
    {
     "name": "stderr",
     "output_type": "stream",
     "text": [
      "/tmp/ipykernel_5563/3994025178.py:9: RuntimeWarning: This filename (/workspaces/preprocessing_pipline/Data/groupData4.fif) does not conform to MNE naming conventions. All raw files should end with raw.fif, raw_sss.fif, raw_tsss.fif, _meg.fif, _eeg.fif, _ieeg.fif, raw.fif.gz, raw_sss.fif.gz, raw_tsss.fif.gz, _meg.fif.gz, _eeg.fif.gz or _ieeg.fif.gz\n",
      "  concat_data = mne.io.read_raw_fif(path_concat, preload=True)\n"
     ]
    },
    {
     "name": "stdout",
     "output_type": "stream",
     "text": [
      "    Range : 2835 ... 1794939 =      5.537 ...  3505.740 secs\n",
      "Ready.\n",
      "Reading 0 ... 1792104  =      0.000 ...  3500.203 secs...\n"
     ]
    }
   ],
   "source": [
    "import sys\n",
    "import os\n",
    "import mne\n",
    "# Add the workspace root to the Python path\n",
    "workspace_root = os.path.abspath(\"..\")\n",
    "if workspace_root not in sys.path:\n",
    "    sys.path.append(workspace_root)\n",
    "path_concat = os.path.join(workspace_root, 'Data', f'groupData4.fif')  \n",
    "concat_data = mne.io.read_raw_fif(path_concat, preload=True) \n",
    "def gICA(concat_data):\n",
    "    # compute the ICA\n",
    "    ica = mne.preprocessing.ICA(n_components = 0.98, method= 'infomax', fit_params=dict(extended=True))\n",
    "    ica.fit(concat_data, picks = 'eeg', decim = 3)\n",
    "    ICA_path = os.path.join(workspace_root, 'Data', f'gICA_4.fif')\n",
    "    ica.save(ICA_path, overwrite=True)\n",
    "    return \n",
    "\n",
    "# submit with submitit one job \n",
    "from submitit import AutoExecutor\n",
    "executor = AutoExecutor(folder=\"logdir\")\n",
    "executor.update_parameters(cpus_per_task=4,  mem_gb=14, timeout_min=600)\n",
    "job = executor.submit(gICA, concat_data)"
   ]
  },
  {
   "cell_type": "code",
   "execution_count": 1,
   "id": "4113ee79",
   "metadata": {},
   "outputs": [
    {
     "name": "stderr",
     "output_type": "stream",
     "text": [
      "C:\\Users\\gmoha\\AppData\\Local\\Temp\\ipykernel_9544\\534549350.py:10: RuntimeWarning: This filename (c:\\Users\\gmoha\\Downloads\\git\\preprocessing_pipline\\Data\\groupData4.fif) does not conform to MNE naming conventions. All raw files should end with raw.fif, raw_sss.fif, raw_tsss.fif, _meg.fif, _eeg.fif, _ieeg.fif, raw.fif.gz, raw_sss.fif.gz, raw_tsss.fif.gz, _meg.fif.gz, _eeg.fif.gz or _ieeg.fif.gz\n",
      "  concat_data = mne.io.read_raw_fif(path_concat, preload=True)\n",
      "C:\\Users\\gmoha\\AppData\\Local\\Temp\\ipykernel_9544\\534549350.py:12: RuntimeWarning: This filename (c:\\Users\\gmoha\\Downloads\\git\\preprocessing_pipline\\Data\\gICA_4.fif) does not conform to MNE naming conventions. All ICA files should end with -ica.fif, -ica.fif.gz, _ica.fif or _ica.fif.gz\n",
      "  ica = mne.preprocessing.read_ica( ICA_path)\n"
     ]
    }
   ],
   "source": [
    "import sys\n",
    "import os\n",
    "import mne\n",
    "# Add the workspace root to the Python path\n",
    "mne.set_log_level('WARNING')\n",
    "workspace_root = os.path.abspath(\"..\")\n",
    "if workspace_root not in sys.path:\n",
    "    sys.path.append(workspace_root)\n",
    "path_concat = os.path.join(workspace_root, 'Data', f'groupData4.fif')  \n",
    "concat_data = mne.io.read_raw_fif(path_concat, preload=True)\n",
    "ICA_path = os.path.join(workspace_root, 'Data', f'gICA_4.fif')\n",
    "ica = mne.preprocessing.read_ica( ICA_path) \n"
   ]
  },
  {
   "cell_type": "code",
   "execution_count": 4,
   "id": "69945445",
   "metadata": {},
   "outputs": [],
   "source": [
    "annotation = concat_data._annotations\n",
    "df = annotation.to_data_frame()\n",
    "# df = df[df['duration'] != 0]\n",
    "# df= df.reset_index(drop=True)"
   ]
  }
 ],
 "metadata": {
  "kernelspec": {
   "display_name": "BCLenv",
   "language": "python",
   "name": "python3"
  },
  "language_info": {
   "codemirror_mode": {
    "name": "ipython",
    "version": 3
   },
   "file_extension": ".py",
   "mimetype": "text/x-python",
   "name": "python",
   "nbconvert_exporter": "python",
   "pygments_lexer": "ipython3",
   "version": "3.10.16"
  }
 },
 "nbformat": 4,
 "nbformat_minor": 5
}
