{
 "cells": [
  {
   "cell_type": "code",
   "execution_count": 1,
   "id": "cc70aac3",
   "metadata": {},
   "outputs": [
    {
     "name": "stdout",
     "output_type": "stream",
     "text": [
      "Opening raw data file /workspaces/preprocessing_pipline/Data/combined_pregICA_noLF.fif...\n",
      "    Range : 2835 ... 768746 =      5.537 ...  1501.457 secs\n",
      "Ready.\n"
     ]
    },
    {
     "name": "stderr",
     "output_type": "stream",
     "text": [
      "/tmp/ipykernel_65909/620920413.py:16: RuntimeWarning: This filename (/workspaces/preprocessing_pipline/Data/combined_pregICA_noLF.fif) does not conform to MNE naming conventions. All raw files should end with raw.fif, raw_sss.fif, raw_tsss.fif, _meg.fif, _eeg.fif, _ieeg.fif, raw.fif.gz, raw_sss.fif.gz, raw_tsss.fif.gz, _meg.fif.gz, _eeg.fif.gz or _ieeg.fif.gz\n",
      "  combined_pregICA = mne.io.read_raw_fif(combined_pregICA_path)\n"
     ]
    }
   ],
   "source": [
    "\n",
    "## load data and funtions \n",
    "#########################################################################################\n",
    "import sys\n",
    "import os\n",
    "import numpy as np\n",
    "import mne\n",
    "import matplotlib.pyplot as plt\n",
    "import pickle\n",
    "from collections import defaultdict\n",
    "# Add the workspace root to the Python path\n",
    "workspace_root = os.path.abspath(\"..\")\n",
    "if workspace_root not in sys.path:\n",
    "    sys.path.append(workspace_root)\n",
    "\n",
    "combined_pregICA_path = os.path.join(workspace_root,'Data',  'combined_pregICA_noLF.fif')\n",
    "combined_pregICA = mne.io.read_raw_fif(combined_pregICA_path)\n"
   ]
  },
  {
   "cell_type": "code",
   "execution_count": 2,
   "id": "76aa06b6",
   "metadata": {},
   "outputs": [],
   "source": [
    "def dummy_ica():\n",
    "    import sys\n",
    "    import os\n",
    "    import numpy as np\n",
    "    import mne\n",
    "    import matplotlib.pyplot as plt\n",
    "    import pickle\n",
    "    from collections import defaultdict\n",
    "    # Add the workspace root to the Python path\n",
    "    workspace_root = os.path.abspath(\"..\")\n",
    "    if workspace_root not in sys.path:\n",
    "        sys.path.append(workspace_root)\n",
    "\n",
    "    combined_pregICA_path = os.path.join(workspace_root, 'Data', 'combined_pregICA_noLF.fif')\n",
    "    combined_pregICA = mne.io.read_raw_fif(combined_pregICA_path)\n",
    "    # compute the ICA\n",
    "    ica = mne.preprocessing.ICA(n_components = 0.98, method= 'infomax', fit_params=dict(extended=True))\n",
    "    ica.fit(combined_pregICA, picks = 'eeg', decim = 2)\n",
    "    ICA_path = os.path.join(workspace_root, 'Data', f'gICA_noLF.fif')\n",
    "    ica.save(ICA_path)\n",
    "    return \n",
    "\n",
    "# submit with submitit one job \n",
    "from submitit import AutoExecutor\n",
    "executor = AutoExecutor(folder=\"logdir\")\n",
    "\n",
    "executor.update_parameters(cpus_per_task=4,  mem_gb=14, timeout_min=600)\n",
    "job = executor.submit(dummy_ica)"
   ]
  }
 ],
 "metadata": {
  "kernelspec": {
   "display_name": "BCLenv",
   "language": "python",
   "name": "python3"
  },
  "language_info": {
   "codemirror_mode": {
    "name": "ipython",
    "version": 3
   },
   "file_extension": ".py",
   "mimetype": "text/x-python",
   "name": "python",
   "nbconvert_exporter": "python",
   "pygments_lexer": "ipython3",
   "version": "3.10.16"
  }
 },
 "nbformat": 4,
 "nbformat_minor": 5
}
