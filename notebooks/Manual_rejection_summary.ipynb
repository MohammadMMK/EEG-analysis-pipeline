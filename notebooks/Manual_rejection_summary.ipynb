{
 "cells": [
  {
   "cell_type": "code",
   "execution_count": 1,
   "id": "455b11ca",
   "metadata": {},
   "outputs": [],
   "source": [
    "import sys\n",
    "import os\n",
    "import numpy as np\n",
    "import mne\n",
    "import matplotlib.pyplot as plt\n",
    "import pickle\n",
    "from collections import defaultdict\n",
    "# Add the workspace root to the Python path\n",
    "workspace_root = os.path.abspath(\"..\")\n",
    "if workspace_root not in sys.path:\n",
    "    sys.path.append(workspace_root)\n",
    "# load the selected bad channels\n",
    "with open(os.path.join(workspace_root, 'Data', 'bad_channels_detected.pkl'), \"rb\") as f:\n",
    "    detected_noise = pickle.load(f)\n",
    "import pandas as pd\n"
   ]
  },
  {
   "cell_type": "code",
   "execution_count": 4,
   "id": "61d01964",
   "metadata": {},
   "outputs": [
    {
     "data": {
      "application/vnd.microsoft.datawrangler.viewer.v0+json": {
       "columns": [
        {
         "name": "index",
         "rawType": "int64",
         "type": "integer"
        },
        {
         "name": "channel_names",
         "rawType": "object",
         "type": "unknown"
        },
        {
         "name": "trial_numbers",
         "rawType": "object",
         "type": "unknown"
        }
       ],
       "ref": "7140469f-3102-4947-aeed-078d61ee089c",
       "rows": [
        [
         "601",
         "['D29', 'B27']",
         "[57, 58, 59, 55, 106]"
        ],
        [
         "602",
         "['A32']",
         "[19, 17, 20, 62, 69, 71, 75, 77, 78]"
        ],
        [
         "603",
         "[]",
         "[1, 102, 49]"
        ],
        [
         "604",
         "['A31']",
         "[]"
        ],
        [
         "605",
         "[]",
         "[55, 6, 19, 20, 21]"
        ],
        [
         "606",
         "[]",
         "[]"
        ],
        [
         "611",
         "[]",
         "[6, 86, 93]"
        ],
        [
         "612",
         "['D23', 'A24', 'B6']",
         "[14, 15, 17, 12, 77]"
        ],
        [
         "614",
         "['D23', 'D24', 'C7', 'C8']",
         "[19, 24, 99, 57, 56, 55]"
        ],
        [
         "615",
         "['A17', 'D12', 'D22', 'D32']",
         "[]"
        ],
        [
         "613",
         "['A32', 'B25', 'D23', 'D31', 'D32']",
         "[]"
        ],
        [
         "616",
         "['A8', 'A30']",
         "[25, 91]"
        ],
        [
         "617",
         "['A31', 'A32', 'A16', 'D25', 'B10', 'D9', 'D5']",
         "[1, 5, 8, 11, 13]"
        ],
        [
         "607",
         "['A22', 'B27']",
         "[]"
        ],
        [
         "608",
         "['D8', 'A26']",
         "[15]"
        ],
        [
         "609",
         "['B26', 'C23']",
         "[]"
        ],
        [
         "610",
         "['C7', 'C8', 'C30', 'D23']",
         "[]"
        ]
       ],
       "shape": {
        "columns": 2,
        "rows": 17
       }
      },
      "text/html": [
       "<div>\n",
       "<style scoped>\n",
       "    .dataframe tbody tr th:only-of-type {\n",
       "        vertical-align: middle;\n",
       "    }\n",
       "\n",
       "    .dataframe tbody tr th {\n",
       "        vertical-align: top;\n",
       "    }\n",
       "\n",
       "    .dataframe thead th {\n",
       "        text-align: right;\n",
       "    }\n",
       "</style>\n",
       "<table border=\"1\" class=\"dataframe\">\n",
       "  <thead>\n",
       "    <tr style=\"text-align: right;\">\n",
       "      <th></th>\n",
       "      <th>channel_names</th>\n",
       "      <th>trial_numbers</th>\n",
       "    </tr>\n",
       "  </thead>\n",
       "  <tbody>\n",
       "    <tr>\n",
       "      <th>601</th>\n",
       "      <td>[D29, B27]</td>\n",
       "      <td>[57, 58, 59, 55, 106]</td>\n",
       "    </tr>\n",
       "    <tr>\n",
       "      <th>602</th>\n",
       "      <td>[A32]</td>\n",
       "      <td>[19, 17, 20, 62, 69, 71, 75, 77, 78]</td>\n",
       "    </tr>\n",
       "    <tr>\n",
       "      <th>603</th>\n",
       "      <td>[]</td>\n",
       "      <td>[1, 102, 49]</td>\n",
       "    </tr>\n",
       "    <tr>\n",
       "      <th>604</th>\n",
       "      <td>[A31]</td>\n",
       "      <td>[]</td>\n",
       "    </tr>\n",
       "    <tr>\n",
       "      <th>605</th>\n",
       "      <td>[]</td>\n",
       "      <td>[55, 6, 19, 20, 21]</td>\n",
       "    </tr>\n",
       "    <tr>\n",
       "      <th>606</th>\n",
       "      <td>[]</td>\n",
       "      <td>[]</td>\n",
       "    </tr>\n",
       "    <tr>\n",
       "      <th>611</th>\n",
       "      <td>[]</td>\n",
       "      <td>[6, 86, 93]</td>\n",
       "    </tr>\n",
       "    <tr>\n",
       "      <th>612</th>\n",
       "      <td>[D23, A24, B6]</td>\n",
       "      <td>[14, 15, 17, 12, 77]</td>\n",
       "    </tr>\n",
       "    <tr>\n",
       "      <th>614</th>\n",
       "      <td>[D23, D24, C7, C8]</td>\n",
       "      <td>[19, 24, 99, 57, 56, 55]</td>\n",
       "    </tr>\n",
       "    <tr>\n",
       "      <th>615</th>\n",
       "      <td>[A17, D12, D22, D32]</td>\n",
       "      <td>[]</td>\n",
       "    </tr>\n",
       "    <tr>\n",
       "      <th>613</th>\n",
       "      <td>[A32, B25, D23, D31, D32]</td>\n",
       "      <td>[]</td>\n",
       "    </tr>\n",
       "    <tr>\n",
       "      <th>616</th>\n",
       "      <td>[A8, A30]</td>\n",
       "      <td>[25, 91]</td>\n",
       "    </tr>\n",
       "    <tr>\n",
       "      <th>617</th>\n",
       "      <td>[A31, A32, A16, D25, B10, D9, D5]</td>\n",
       "      <td>[1, 5, 8, 11, 13]</td>\n",
       "    </tr>\n",
       "    <tr>\n",
       "      <th>607</th>\n",
       "      <td>[A22, B27]</td>\n",
       "      <td>[]</td>\n",
       "    </tr>\n",
       "    <tr>\n",
       "      <th>608</th>\n",
       "      <td>[D8, A26]</td>\n",
       "      <td>[15]</td>\n",
       "    </tr>\n",
       "    <tr>\n",
       "      <th>609</th>\n",
       "      <td>[B26, C23]</td>\n",
       "      <td>[]</td>\n",
       "    </tr>\n",
       "    <tr>\n",
       "      <th>610</th>\n",
       "      <td>[C7, C8, C30, D23]</td>\n",
       "      <td>[]</td>\n",
       "    </tr>\n",
       "  </tbody>\n",
       "</table>\n",
       "</div>"
      ],
      "text/plain": [
       "                         channel_names                         trial_numbers\n",
       "601                         [D29, B27]                 [57, 58, 59, 55, 106]\n",
       "602                              [A32]  [19, 17, 20, 62, 69, 71, 75, 77, 78]\n",
       "603                                 []                          [1, 102, 49]\n",
       "604                              [A31]                                    []\n",
       "605                                 []                   [55, 6, 19, 20, 21]\n",
       "606                                 []                                    []\n",
       "611                                 []                           [6, 86, 93]\n",
       "612                     [D23, A24, B6]                  [14, 15, 17, 12, 77]\n",
       "614                 [D23, D24, C7, C8]              [19, 24, 99, 57, 56, 55]\n",
       "615               [A17, D12, D22, D32]                                    []\n",
       "613          [A32, B25, D23, D31, D32]                                    []\n",
       "616                          [A8, A30]                              [25, 91]\n",
       "617  [A31, A32, A16, D25, B10, D9, D5]                     [1, 5, 8, 11, 13]\n",
       "607                         [A22, B27]                                    []\n",
       "608                          [D8, A26]                                  [15]\n",
       "609                         [B26, C23]                                    []\n",
       "610                 [C7, C8, C30, D23]                                    []"
      ]
     },
     "execution_count": 4,
     "metadata": {},
     "output_type": "execute_result"
    }
   ],
   "source": [
    "# dict to df\n",
    "dataframe = pd.DataFrame.from_dict(detected_noise, orient='index')\n",
    "dataframe"
   ]
  },
  {
   "cell_type": "code",
   "execution_count": null,
   "id": "239cc5db",
   "metadata": {},
   "outputs": [
    {
     "data": {
      "image/png": "[encoded data removed]",
      "text/plain": [
       "<Figure size 1200x600 with 2 Axes>"
      ]
     },
     "metadata": {},
     "output_type": "display_data"
    }
   ],
   "source": [
    "ids = np.array(range(601,618))\n",
    "n_channels = []\n",
    "nTrials = []\n",
    "for id in ids:\n",
    "    nChannel= len(detected_noise[id]['channel_names'])\n",
    "    nTrial = len(detected_noise[id]['trial_numbers'])\n",
    "    n_channels.append(nChannel)\n",
    "    nTrials.append(nTrial)\n",
    "\n",
    "\n",
    "\n",
    "# Plot the number of channels and trials per ID\n",
    "plt.figure(figsize=(12, 6))\n",
    "\n",
    "# Subplot for the number of channels\n",
    "plt.subplot(1, 2, 1)\n",
    "bars_channels = plt.bar(ids, n_channels, color='skyblue', alpha=0.8)\n",
    "plt.xlabel('Subject ID')\n",
    "plt.ylabel('Number of Channels')\n",
    "plt.title('removed channels per Subject')\n",
    "plt.xticks(ids)  # Set x-ticks to exact subject IDs\n",
    "for bar in bars_channels:\n",
    "    height = bar.get_height()\n",
    "    plt.text(bar.get_x() + bar.get_width() / 2, height, f'{int(height)}', ha='center', va='bottom')\n",
    "\n",
    "# Subplot for the number of trials\n",
    "plt.subplot(1, 2, 2)\n",
    "bars_trials = plt.bar(ids, nTrials, color='lightcoral', alpha=0.8)\n",
    "plt.xlabel('Subject ID')\n",
    "plt.ylabel('Number of Trials')\n",
    "plt.title('removed trials per Subject')\n",
    "plt.xticks(ids)  # Set x-ticks to exact subject IDs\n",
    "for bar in bars_trials:\n",
    "    height = bar.get_height()\n",
    "    plt.text(bar.get_x() + bar.get_width() / 2, height, f'{int(height)}', ha='center', va='bottom')\n",
    "\n",
    "# Adjust layout and show the plot\n",
    "plt.tight_layout()\n",
    "plt.show()"
   ]
  }
 ],
 "metadata": {
  "kernelspec": {
   "display_name": "BCLenv",
   "language": "python",
   "name": "python3"
  },
  "language_info": {
   "codemirror_mode": {
    "name": "ipython",
    "version": 3
   },
   "file_extension": ".py",
   "mimetype": "text/x-python",
   "name": "python",
   "nbconvert_exporter": "python",
   "pygments_lexer": "ipython3",
   "version": "3.10.16"
  }
 },
 "nbformat": 4,
 "nbformat_minor": 5
}
