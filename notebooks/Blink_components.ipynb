{
 "cells": [
  {
   "cell_type": "code",
   "execution_count": null,
   "id": "8924cc9a",
   "metadata": {},
   "outputs": [
    {
     "name": "stderr",
     "output_type": "stream",
     "text": [
      "c:\\Users\\gmoha\\Downloads\\git\\preprocessing_pipline\\functions.py:27: FutureWarning: The 'delim_whitespace' keyword in pd.read_csv is deprecated and will be removed in a future version. Use ``sep='\\s+'`` instead\n",
      "  xyz_data = pd.read_csv(ch_location_path, delim_whitespace=True, skiprows=1, header=None)\n",
      "c:\\Users\\gmoha\\Downloads\\git\\preprocessing_pipline\\functions.py:27: FutureWarning: The 'delim_whitespace' keyword in pd.read_csv is deprecated and will be removed in a future version. Use ``sep='\\s+'`` instead\n",
      "  xyz_data = pd.read_csv(ch_location_path, delim_whitespace=True, skiprows=1, header=None)\n"
     ]
    }
   ],
   "source": [
    "import sys\n",
    "import os\n",
    "import numpy as np\n",
    "import mne\n",
    "import matplotlib.pyplot as plt\n",
    "import pickle\n",
    "from collections import defaultdict\n",
    "mne.set_log_level('ERROR')\n",
    "# Add the workspace root to the Python path\n",
    "workspace_root = os.path.abspath(\"..\")\n",
    "if workspace_root not in sys.path:\n",
    "    sys.path.append(workspace_root)\n",
    "from functions import preprocess, behaviorAnalysis, get_noisyICs\n",
    "from Pipeline import pre_ica_denoise\n",
    "ids = [601, 602, 603, 604, 605, 606]\n",
    "%matplotlib inline\n",
    "import matplotlib.pyplot as plt\n",
    "mne.set_log_level('ERROR')\n",
    "for id in ids:\n",
    "    pre_ica_raw = pre_ica_denoise(id, lowPassFilter= None)\n",
    "    ica_path = os.path.join(workspace_root, 'Data', f'S{id}_ica_infomax.fif')\n",
    "    ica = mne.preprocessing.read_ica(ica_path)\n",
    "    path_labels = os.path.join(workspace_root,'Data', f'S{id}_ica_infomax_labels.pkl')\n",
    "    if os.path.exists(path_labels):\n",
    "        with open(path_labels, \"rb\") as f:\n",
    "            ica_labels = pickle.load(f)\n",
    "    else:\n",
    "        from mne_icalabel import label_components\n",
    "        ic_labels = label_components(pre_ica_raw, ica, method=\"iclabel\")\n",
    "        # save the labels\n",
    "        with open(path_labels, \"wb\") as f:\n",
    "            pickle.dump(ic_labels, f)\n",
    "    noisy_components = get_noisyICs(ic_labels, threshold= 0.7, noise_type='blinks')\n",
    "    figure= ica.plot_components(inst =pre_ica_raw,  picks = noisy_components, title = f'blink components for subject {id}', show =False )\n",
    "    plt.show(figure)\n"
   ]
  }
 ],
 "metadata": {
  "kernelspec": {
   "display_name": "BCLenv",
   "language": "python",
   "name": "python3"
  },
  "language_info": {
   "codemirror_mode": {
    "name": "ipython",
    "version": 3
   },
   "file_extension": ".py",
   "mimetype": "text/x-python",
   "name": "python",
   "nbconvert_exporter": "python",
   "pygments_lexer": "ipython3",
   "version": "3.10.16"
  }
 },
 "nbformat": 4,
 "nbformat_minor": 5
}
