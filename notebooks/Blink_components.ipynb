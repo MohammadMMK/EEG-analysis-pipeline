{
 "cells": [
  {
   "cell_type": "code",
   "execution_count": null,
   "id": "8924cc9a",
   "metadata": {},
   "outputs": [],
   "source": [
    "import sys\n",
    "import os\n",
    "import numpy as np\n",
    "import mne\n",
    "import matplotlib.pyplot as plt\n",
    "import pickle\n",
    "from collections import defaultdict\n",
    "# Add the workspace root to the Python path\n",
    "workspace_root = os.path.abspath(\"..\")\n",
    "if workspace_root not in sys.path:\n",
    "    sys.path.append(workspace_root)\n",
    "from functions import preprocess, behaviorAnalysis, get_noisyICs\n",
    "from Pipeline import pre_ica_denoise\n",
    "id= 601\n",
    "# Load the preprocessed data\n",
    "pre_ica_raw = pre_ica_denoise(id, lowPassFilter= None)\n",
    "ica_path = os.path.join(workspace_root, 'Data', f'S{id}_ica_infomax.fif')\n",
    "noisy_components, ic_labels = get_noisyICs(pre_ica_raw, threshold=0.5)"
   ]
  }
 ],
 "metadata": {
  "language_info": {
   "name": "python"
  }
 },
 "nbformat": 4,
 "nbformat_minor": 5
}
