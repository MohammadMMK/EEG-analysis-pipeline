{
 "cells": [
  {
   "cell_type": "code",
   "execution_count": 1,
   "id": "180146ad",
   "metadata": {},
   "outputs": [
    {
     "name": "stderr",
     "output_type": "stream",
     "text": [
      "c:\\Users\\gmoha\\Downloads\\git\\preprocessing_pipline\\functions.py:25: FutureWarning: The 'delim_whitespace' keyword in pd.read_csv is deprecated and will be removed in a future version. Use ``sep='\\s+'`` instead\n",
      "  xyz_data = pd.read_csv(ch_location_path, delim_whitespace=True, skiprows=1, header=None)\n",
      "c:\\Users\\gmoha\\Downloads\\git\\preprocessing_pipline\\functions.py:25: FutureWarning: The 'delim_whitespace' keyword in pd.read_csv is deprecated and will be removed in a future version. Use ``sep='\\s+'`` instead\n",
      "  xyz_data = pd.read_csv(ch_location_path, delim_whitespace=True, skiprows=1, header=None)\n"
     ]
    }
   ],
   "source": [
    "import sys\n",
    "import os\n",
    "import numpy as np\n",
    "import mne\n",
    "import matplotlib.pyplot as plt\n",
    "import pickle\n",
    "# Add the workspace root to the Python path\n",
    "workspace_root = os.path.abspath(\"..\")\n",
    "if workspace_root not in sys.path:\n",
    "    sys.path.append(workspace_root)\n",
    "mne.set_log_level('ERROR')\n",
    "from Pipeline import pre_HA_denoise\n",
    "\n",
    "subject = 601\n",
    "\n",
    "datanorm = pre_HA_denoise(subject,30)"
   ]
  },
  {
   "cell_type": "code",
   "execution_count": 11,
   "id": "baa75a65",
   "metadata": {},
   "outputs": [],
   "source": [
    "annotation = datanorm._annotations\n",
    "df = annotation.to_data_frame()\n",
    "df = df[df['duration'] != 0]"
   ]
  },
  {
   "cell_type": "code",
   "execution_count": null,
   "id": "c077aa43",
   "metadata": {},
   "outputs": [],
   "source": [
    "import sys\n",
    "import os\n",
    "import numpy as np\n",
    "import mne\n",
    "import matplotlib.pyplot as plt\n",
    "import pickle\n",
    "# Add the workspace root to the Python path\n",
    "workspace_root = os.path.abspath(\"..\")\n",
    "if workspace_root not in sys.path:\n",
    "    sys.path.append(workspace_root)\n",
    "mne.set_log_level('ERROR')\n",
    "from Pipeline import pre_HA_denoise\n",
    "\n",
    "subject = 601\n",
    "\n",
    "datanorm = pre_HA_denoise(subject,30)\n",
    "\n",
    "\n",
    "all_data = []\n",
    "all_description = []\n",
    "for i, duration in enumerate(df['duration']):\n",
    "    if i == 0:\n",
    "        start = 0\n",
    "    else:\n",
    "        start = np.sum(df['duration'][:i])\n",
    "    end = start + duration\n",
    "    temp_raw = datanorm.copy().crop(tmin=start, tmax=end)\n",
    "    data = temp_raw.get_data(picks = 'eeg')\n",
    "    all_data.append(data)\n",
    "    trial_number = df['description'][i] \n",
    "    all_description.append(trial_number)\n",
    "concat = datanorm.copy().get_data(picks = 'eeg')\n",
    "\n",
    "mean = np.mean(concat, axis=1)\n",
    "std = np.std(concat, axis=1)\n",
    "\n"
   ]
  },
  {
   "cell_type": "code",
   "execution_count": null,
   "id": "719b2f49",
   "metadata": {},
   "outputs": [],
   "source": [
    "import numpy as np\n",
    "import matplotlib.pyplot as plt\n",
    "import mne\n",
    "threshold = 7\n",
    "# Compute per-channel threshold based on global mean and std\n",
    "channel_thresholds = mean + threshold * std  # shape: (n_channels,)\n",
    "\n",
    "# Number of trials and channels\n",
    "n_trials = len(all_data)\n",
    "n_channels = concat.shape[0]\n",
    "\n",
    "# Initialize detection matrix (trials x channels)\n",
    "detection = np.zeros((n_trials, n_channels), dtype=bool)\n",
    "\n",
    "# Detect threshold crossings per trial and channel\n",
    "for i, trial in enumerate(all_data):  # trial shape: (n_channels, n_times)\n",
    "    for ch in range(n_channels):\n",
    "        if np.any(np.abs(trial[ch, :]) > channel_thresholds[ch]):\n",
    "            detection[i, ch] = True\n",
    "%matplotlib inline\n",
    "# Get EEG channel names for labeling\n",
    "eeg_picks = mne.pick_types(datanorm.info, eeg=True)\n",
    "ch_names = [datanorm.info['ch_names'][idx] for idx in eeg_picks]\n",
    "\n",
    "# Plot: trials on x-axis, channels on y-axis\n",
    "fig, ax = plt.subplots(figsize=(12, 8))\n",
    "im = ax.imshow(detection.T.astype(int), aspect='auto', interpolation='none', cmap='viridis')\n",
    "\n",
    "# Set ticks for every trial and channel\n",
    "ax.set_xticks(np.arange(n_trials))\n",
    "ax.set_xticklabels(all_description, rotation=90, fontsize=6)\n",
    "ax.set_yticks(np.arange(n_channels))\n",
    "ax.set_yticklabels(ch_names, fontsize=6)\n",
    "\n",
    "# Labels and title\n",
    "ax.set_xlabel('Trial')\n",
    "ax.set_ylabel('Channel')\n",
    "ax.set_title(f'Threshold Crossings (threshold = mean + {threshold} × std)')\n",
    "\n",
    "# Colorbar\n",
    "cbar = plt.colorbar(im, ax=ax, label='Crossed (1=True)')\n",
    "\n",
    "plt.tight_layout()\n",
    "plt.show()\n"
   ]
  },
  {
   "cell_type": "code",
   "execution_count": null,
   "id": "79be898e",
   "metadata": {},
   "outputs": [],
   "source": [
    "%matplotlib qt\n",
    "datanorm.plot(scalings = 5 , n_channels = 128, duration = 20)"
   ]
  },
  {
   "cell_type": "code",
   "execution_count": 1,
   "id": "309091b2",
   "metadata": {},
   "outputs": [],
   "source": [
    "import sys\n",
    "import os\n",
    "import numpy as np\n",
    "import mne\n",
    "import matplotlib.pyplot as plt\n",
    "import pickle\n",
    "# Add the workspace root to the Python path\n",
    "workspace_root = os.path.abspath(\"..\")\n",
    "if workspace_root not in sys.path:\n",
    "    sys.path.append(workspace_root)\n",
    "mne.set_log_level('ERROR')\n",
    "from Pipeline import detect_HA_outliers\n",
    "\n",
    "\n",
    "with open(os.path.join(workspace_root,'Data', 'BadTrialsChannel_manualDetected.pkl'), \"rb\") as f:\n",
    "    all_bads = pickle.load(f)\n",
    "\n",
    "\n",
    "\n",
    "\n",
    "\n",
    "\n"
   ]
  },
  {
   "cell_type": "code",
   "execution_count": 33,
   "id": "d18f8ef0",
   "metadata": {},
   "outputs": [
    {
     "name": "stdout",
     "output_type": "stream",
     "text": [
      "Processing subject 604\n"
     ]
    },
    {
     "name": "stderr",
     "output_type": "stream",
     "text": [
      "c:\\Users\\gmoha\\Downloads\\git\\preprocessing_pipline\\functions.py:25: FutureWarning: The 'delim_whitespace' keyword in pd.read_csv is deprecated and will be removed in a future version. Use ``sep='\\s+'`` instead\n",
      "  xyz_data = pd.read_csv(ch_location_path, delim_whitespace=True, skiprows=1, header=None)\n",
      "c:\\Users\\gmoha\\Downloads\\git\\preprocessing_pipline\\functions.py:25: FutureWarning: The 'delim_whitespace' keyword in pd.read_csv is deprecated and will be removed in a future version. Use ``sep='\\s+'`` instead\n",
      "  xyz_data = pd.read_csv(ch_location_path, delim_whitespace=True, skiprows=1, header=None)\n"
     ]
    },
    {
     "name": "stdout",
     "output_type": "stream",
     "text": [
      "Processing subject 605\n"
     ]
    },
    {
     "name": "stderr",
     "output_type": "stream",
     "text": [
      "c:\\Users\\gmoha\\Downloads\\git\\preprocessing_pipline\\functions.py:25: FutureWarning: The 'delim_whitespace' keyword in pd.read_csv is deprecated and will be removed in a future version. Use ``sep='\\s+'`` instead\n",
      "  xyz_data = pd.read_csv(ch_location_path, delim_whitespace=True, skiprows=1, header=None)\n",
      "c:\\Users\\gmoha\\Downloads\\git\\preprocessing_pipline\\functions.py:25: FutureWarning: The 'delim_whitespace' keyword in pd.read_csv is deprecated and will be removed in a future version. Use ``sep='\\s+'`` instead\n",
      "  xyz_data = pd.read_csv(ch_location_path, delim_whitespace=True, skiprows=1, header=None)\n"
     ]
    },
    {
     "name": "stdout",
     "output_type": "stream",
     "text": [
      "Processing subject 606\n"
     ]
    },
    {
     "name": "stderr",
     "output_type": "stream",
     "text": [
      "c:\\Users\\gmoha\\Downloads\\git\\preprocessing_pipline\\functions.py:25: FutureWarning: The 'delim_whitespace' keyword in pd.read_csv is deprecated and will be removed in a future version. Use ``sep='\\s+'`` instead\n",
      "  xyz_data = pd.read_csv(ch_location_path, delim_whitespace=True, skiprows=1, header=None)\n",
      "c:\\Users\\gmoha\\Downloads\\git\\preprocessing_pipline\\functions.py:25: FutureWarning: The 'delim_whitespace' keyword in pd.read_csv is deprecated and will be removed in a future version. Use ``sep='\\s+'`` instead\n",
      "  xyz_data = pd.read_csv(ch_location_path, delim_whitespace=True, skiprows=1, header=None)\n"
     ]
    },
    {
     "name": "stdout",
     "output_type": "stream",
     "text": [
      "Processing subject 613\n"
     ]
    },
    {
     "name": "stderr",
     "output_type": "stream",
     "text": [
      "c:\\Users\\gmoha\\Downloads\\git\\preprocessing_pipline\\functions.py:25: FutureWarning: The 'delim_whitespace' keyword in pd.read_csv is deprecated and will be removed in a future version. Use ``sep='\\s+'`` instead\n",
      "  xyz_data = pd.read_csv(ch_location_path, delim_whitespace=True, skiprows=1, header=None)\n",
      "c:\\Users\\gmoha\\Downloads\\git\\preprocessing_pipline\\functions.py:25: FutureWarning: The 'delim_whitespace' keyword in pd.read_csv is deprecated and will be removed in a future version. Use ``sep='\\s+'`` instead\n",
      "  xyz_data = pd.read_csv(ch_location_path, delim_whitespace=True, skiprows=1, header=None)\n"
     ]
    },
    {
     "name": "stdout",
     "output_type": "stream",
     "text": [
      "Processing subject 616\n"
     ]
    },
    {
     "name": "stderr",
     "output_type": "stream",
     "text": [
      "c:\\Users\\gmoha\\Downloads\\git\\preprocessing_pipline\\functions.py:25: FutureWarning: The 'delim_whitespace' keyword in pd.read_csv is deprecated and will be removed in a future version. Use ``sep='\\s+'`` instead\n",
      "  xyz_data = pd.read_csv(ch_location_path, delim_whitespace=True, skiprows=1, header=None)\n",
      "c:\\Users\\gmoha\\Downloads\\git\\preprocessing_pipline\\functions.py:25: FutureWarning: The 'delim_whitespace' keyword in pd.read_csv is deprecated and will be removed in a future version. Use ``sep='\\s+'`` instead\n",
      "  xyz_data = pd.read_csv(ch_location_path, delim_whitespace=True, skiprows=1, header=None)\n"
     ]
    }
   ],
   "source": [
    "\n",
    "all_detection = []\n",
    "all_bad_trials = []\n",
    "\n",
    "list = [604,605,606,613,616]\n",
    "for subject in list:\n",
    "    try:\n",
    "        print(f\"Processing subject {subject}\")\n",
    "        detection, bad_trials = detect_HA_outliers(subject, threshold = 6)\n",
    "        all_detection.append(detection)\n",
    "        all_bad_trials.append(bad_trials)\n",
    "        new_bad_trials= all_bads[subject]['trial_numbers'] + bad_trials\n",
    "        all_bads[subject] = {'channel_names': all_bads[subject]['channel_names'], 'trial_numbers': new_bad_trials,\n",
    "                        'detection': detection, 'noisy_components': all_bads[subject]['noisy_components']}\n",
    "    except Exception as e:\n",
    "        print(f\"Error processing subject {subject}: {e}\")\n",
    "        continue\n"
   ]
  },
  {
   "cell_type": "code",
   "execution_count": 35,
   "id": "b8047fde",
   "metadata": {},
   "outputs": [],
   "source": [
    "with open(os.path.join(workspace_root, 'BadTrialsChannel_manualDetected.pkl'), \"wb\") as f:\n",
    "    pickle.dump(all_bads, f)"
   ]
  },
  {
   "cell_type": "code",
   "execution_count": 2,
   "id": "220220bd",
   "metadata": {},
   "outputs": [],
   "source": [
    "m = all_bads[601]['detection']"
   ]
  }
 ],
 "metadata": {
  "kernelspec": {
   "display_name": "BCLenv",
   "language": "python",
   "name": "python3"
  },
  "language_info": {
   "codemirror_mode": {
    "name": "ipython",
    "version": 3
   },
   "file_extension": ".py",
   "mimetype": "text/x-python",
   "name": "python",
   "nbconvert_exporter": "python",
   "pygments_lexer": "ipython3",
   "version": "3.10.16"
  }
 },
 "nbformat": 4,
 "nbformat_minor": 5
}
