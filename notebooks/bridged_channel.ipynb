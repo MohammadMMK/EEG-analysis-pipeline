{
 "cells": [
  {
   "cell_type": "code",
   "execution_count": null,
   "id": "79d81417",
   "metadata": {},
   "outputs": [
    {
     "name": "stdout",
     "output_type": "stream",
     "text": [
      "Extracting EDF parameters from c:\\Users\\gmoha\\Downloads\\git\\preprocessing_pipline\\data\\O_601_Def_AM.bdf...\n",
      "BDF file detected\n",
      "Setting channel info structure...\n",
      "Creating raw.info structure...\n",
      "Reading 0 ... 478719  =      0.000 ...   934.998 secs...\n"
     ]
    },
    {
     "name": "stderr",
     "output_type": "stream",
     "text": [
      "c:\\Users\\gmoha\\Downloads\\git\\preprocessing_pipline\\functions.py:24: FutureWarning: The 'delim_whitespace' keyword in pd.read_csv is deprecated and will be removed in a future version. Use ``sep='\\s+'`` instead\n",
      "  xyz_data = pd.read_csv(ch_location_path, delim_whitespace=True, skiprows=1, header=None)\n"
     ]
    },
    {
     "name": "stdout",
     "output_type": "stream",
     "text": [
      "Local minimum 0.7895325346364475 found\n",
      "Bridge detected between A2 and A3\n",
      "Bridge detected between B22 and B23\n",
      "Bridge detected between B31 and B32\n",
      "Bridge detected between C8 and C9\n",
      "Bridge detected between C28 and C29\n",
      "Bridge detected between D3 and D4\n",
      "Bridge detected between D19 and D20\n",
      "Extracting EDF parameters from c:\\Users\\gmoha\\Downloads\\git\\preprocessing_pipline\\data\\O_602_Def_MM.bdf...\n",
      "BDF file detected\n",
      "Setting channel info structure...\n",
      "Creating raw.info structure...\n",
      "Reading 0 ... 449535  =      0.000 ...   877.998 secs...\n"
     ]
    },
    {
     "name": "stderr",
     "output_type": "stream",
     "text": [
      "c:\\Users\\gmoha\\Downloads\\git\\preprocessing_pipline\\functions.py:24: FutureWarning: The 'delim_whitespace' keyword in pd.read_csv is deprecated and will be removed in a future version. Use ``sep='\\s+'`` instead\n",
      "  xyz_data = pd.read_csv(ch_location_path, delim_whitespace=True, skiprows=1, header=None)\n"
     ]
    },
    {
     "name": "stdout",
     "output_type": "stream",
     "text": [
      "Local minimum 3.0788030459041464 found\n",
      "Bridge detected between A1 and A2\n",
      "Bridge detected between A6 and A7\n",
      "Bridge detected between A17 and A18\n",
      "Bridge detected between A20 and A21\n",
      "Bridge detected between A23 and A24\n",
      "Bridge detected between A28 and A29\n",
      "Bridge detected between A30 and A31\n",
      "Bridge detected between B15 and B16\n",
      "Bridge detected between B17 and B18\n",
      "Bridge detected between C19 and C20\n",
      "Bridge detected between C26 and C27\n",
      "Bridge detected between D18 and D19\n",
      "Extracting EDF parameters from c:\\Users\\gmoha\\Downloads\\git\\preprocessing_pipline\\data\\o_603_Def_FP.bdf...\n",
      "BDF file detected\n",
      "Setting channel info structure...\n",
      "Creating raw.info structure...\n",
      "Reading 0 ... 509439  =      0.000 ...   994.998 secs...\n"
     ]
    },
    {
     "name": "stderr",
     "output_type": "stream",
     "text": [
      "c:\\Users\\gmoha\\Downloads\\git\\preprocessing_pipline\\functions.py:24: FutureWarning: The 'delim_whitespace' keyword in pd.read_csv is deprecated and will be removed in a future version. Use ``sep='\\s+'`` instead\n",
      "  xyz_data = pd.read_csv(ch_location_path, delim_whitespace=True, skiprows=1, header=None)\n"
     ]
    },
    {
     "name": "stdout",
     "output_type": "stream",
     "text": [
      "Local minimum 0.837329460569092 found\n",
      "Bridge detected between C28 and C29\n",
      "Extracting EDF parameters from c:\\Users\\gmoha\\Downloads\\git\\preprocessing_pipline\\data\\O_604_Def_LM.bdf...\n",
      "BDF file detected\n",
      "Setting channel info structure...\n",
      "Creating raw.info structure...\n",
      "Reading 0 ... 512511  =      0.000 ...  1000.998 secs...\n"
     ]
    },
    {
     "name": "stderr",
     "output_type": "stream",
     "text": [
      "c:\\Users\\gmoha\\Downloads\\git\\preprocessing_pipline\\functions.py:24: FutureWarning: The 'delim_whitespace' keyword in pd.read_csv is deprecated and will be removed in a future version. Use ``sep='\\s+'`` instead\n",
      "  xyz_data = pd.read_csv(ch_location_path, delim_whitespace=True, skiprows=1, header=None)\n"
     ]
    },
    {
     "name": "stdout",
     "output_type": "stream",
     "text": [
      "Local minimum 1.641002469239078 found\n",
      "Bridge detected between A1 and C1\n",
      "Bridge detected between A5 and A18\n",
      "Bridge detected between A10 and A12\n",
      "Bridge detected between A13 and A14\n",
      "Bridge detected between A24 and A25\n",
      "Bridge detected between A26 and A27\n",
      "Bridge detected between B5 and B6\n",
      "Bridge detected between B14 and B15\n",
      "Bridge detected between B20 and B21\n",
      "Bridge detected between B27 and B28\n",
      "Bridge detected between B31 and B32\n",
      "Bridge detected between C25 and C26\n",
      "Bridge detected between C27 and C28\n",
      "Bridge detected between C27 and C29\n",
      "Bridge detected between C28 and C29\n",
      "Bridge detected between C30 and C31\n",
      "Bridge detected between D6 and D7\n",
      "Bridge detected between D14 and D15\n",
      "Bridge detected between D20 and D21\n",
      "Bridge detected between D22 and D23\n"
     ]
    }
   ],
   "source": [
    "import sys\n",
    "import os\n",
    "import numpy as np\n",
    "import mne\n",
    "import matplotlib.pyplot as plt\n",
    "\n",
    "# Add the workspace root to the Python path\n",
    "workspace_root = os.path.abspath(\"..\")\n",
    "if workspace_root not in sys.path:\n",
    "    sys.path.append(workspace_root)\n",
    "\n",
    "from functions import preprocess\n",
    "\n",
    "# List of subject IDs\n",
    "ids = list(range(601, 605))\n",
    "\n",
    "# Dictionary to store bridged channels for all subjects\n",
    "bridged_channels_dict = {}\n",
    "\n",
    "\n",
    "\n",
    "for i, id in enumerate(ids):\n",
    "    # Preprocess the data for each subject\n",
    "    subject = preprocess(id)\n",
    "    # epochs = subject.epoching(tmin=-0.2, tmax=0.8, baseline=(None, 0))\n",
    "    bridged_idx, ed_matrix, bridged_ch_names = subject.bridged_channels( lm_cutoff=5, epoch_threshold=0.5)\n",
    "    \n",
    "    # Save bridged channels information in the dictionary\n",
    "    bridged_channels_dict[id] = {\n",
    "        \"bridged_idx\": bridged_idx,\n",
    "        \"ed_matrix\": ed_matrix,\n",
    "        \"bridged_ch_names\": bridged_ch_names\n",
    "    }\n",
    "    \n",
    "\n"
   ]
  },
  {
   "cell_type": "code",
   "execution_count": null,
   "id": "beb69459",
   "metadata": {
    "vscode": {
     "languageId": "r"
    }
   },
   "outputs": [],
   "source": [
    "# Extract the number of bridged channels for each subject\n",
    "subject_ids = list(bridged_channels_dict.keys())\n",
    "num_bridged_channels = [len(bridged_channels_dict[id][\"bridged_idx\"]) for id in subject_ids]\n",
    "\n",
    "# Plot the number of bridged channels\n",
    "plt.figure(figsize=(10, 6))\n",
    "plt.bar(subject_ids, num_bridged_channels, color='skyblue')\n",
    "plt.xlabel('Subject ID')\n",
    "plt.ylabel('Number of Bridged Channels')\n",
    "plt.title('Number of Bridged Channels per Subject')\n",
    "plt.xticks(subject_ids)\n",
    "plt.show()"
   ]
  },
  {
   "cell_type": "code",
   "execution_count": 2,
   "id": "da628152",
   "metadata": {},
   "outputs": [
    {
     "data": {
      "image/png": "[encoded data removed]",
      "text/plain": [
       "<Figure size 1000x600 with 1 Axes>"
      ]
     },
     "metadata": {},
     "output_type": "display_data"
    }
   ],
   "source": [
    "# Extract the number of bridged channels for each subject\n",
    "subject_ids = list(bridged_channels_dict.keys())\n",
    "num_bridged_channels = [len(bridged_channels_dict[id][\"bridged_ch_names\"]) for id in subject_ids]\n",
    "\n",
    "# Plot the number of bridged channels\n",
    "plt.figure(figsize=(10, 6))\n",
    "plt.bar(subject_ids, num_bridged_channels, color='skyblue')\n",
    "plt.xlabel('Subject ID')\n",
    "plt.ylabel('Number of Bridged Channels')\n",
    "plt.title('Number of Bridged Channels per Subject')\n",
    "plt.xticks(subject_ids)\n",
    "plt.show()"
   ]
  }
 ],
 "metadata": {
  "kernelspec": {
   "display_name": "BCLenv",
   "language": "python",
   "name": "python3"
  },
  "language_info": {
   "codemirror_mode": {
    "name": "ipython",
    "version": 3
   },
   "file_extension": ".py",
   "mimetype": "text/x-python",
   "name": "python",
   "nbconvert_exporter": "python",
   "pygments_lexer": "ipython3",
   "version": "3.10.16"
  }
 },
 "nbformat": 4,
 "nbformat_minor": 5
}
