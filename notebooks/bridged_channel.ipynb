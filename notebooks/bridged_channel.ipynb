{
 "cells": [
  {
   "cell_type": "code",
   "execution_count": 1,
   "id": "79d81417",
   "metadata": {},
   "outputs": [
    {
     "name": "stdout",
     "output_type": "stream",
     "text": [
      "Processing subject 601 with LM cutoff 5...\n",
      "Extracting EDF parameters from /workspaces/preprocessing_pipline/Data/O_601_Def_AM.bdf...\n",
      "BDF file detected\n",
      "Setting channel info structure...\n",
      "Creating raw.info structure...\n",
      "Reading 0 ... 271359  =      0.000 ...   529.998 secs...\n"
     ]
    },
    {
     "name": "stderr",
     "output_type": "stream",
     "text": [
      "/workspaces/preprocessing_pipline/functions.py:18: RuntimeWarning: Number of records from the header does not match the file size (perhaps the recording was not stopped before exiting). Inferring from the file size.\n",
      "  raw = mne.io.read_raw(self.eeg_path, preload=True)\n"
     ]
    },
    {
     "name": "stdout",
     "output_type": "stream",
     "text": [
      "Trigger channel Status has a non-zero initial value of 65536 (consider using initial_event=True to detect this event)\n",
      "Removing orphaned offset at the beginning of the file.\n",
      "59 events found on stim channel Status\n",
      "Event IDs: [1 2]\n",
      "Error processing subject 601: metadata must have the same number of rows (108) as events (59)\n",
      "Processing subject 602 with LM cutoff 5...\n",
      "Extracting EDF parameters from /workspaces/preprocessing_pipline/Data/O_602_Def_MM.bdf...\n",
      "BDF file detected\n",
      "Setting channel info structure...\n",
      "Creating raw.info structure...\n",
      "Reading 0 ... 271359  =      0.000 ...   529.998 secs...\n"
     ]
    },
    {
     "name": "stderr",
     "output_type": "stream",
     "text": [
      "/workspaces/preprocessing_pipline/functions.py:24: FutureWarning: The 'delim_whitespace' keyword in pd.read_csv is deprecated and will be removed in a future version. Use ``sep='\\s+'`` instead\n",
      "  xyz_data = pd.read_csv(ch_location_path, delim_whitespace=True, skiprows=1, header=None)\n",
      "/workspaces/preprocessing_pipline/functions.py:18: RuntimeWarning: Number of records from the header does not match the file size (perhaps the recording was not stopped before exiting). Inferring from the file size.\n",
      "  raw = mne.io.read_raw(self.eeg_path, preload=True)\n"
     ]
    },
    {
     "name": "stdout",
     "output_type": "stream",
     "text": [
      "Trigger channel Status has a non-zero initial value of 65536 (consider using initial_event=True to detect this event)\n",
      "Removing orphaned offset at the beginning of the file.\n",
      "65 events found on stim channel Status\n",
      "Event IDs: [1 2]\n",
      "Error processing subject 602: metadata must have the same number of rows (108) as events (65)\n",
      "Processing subject 603 with LM cutoff 5...\n",
      "Extracting EDF parameters from /workspaces/preprocessing_pipline/Data/o_603_Def_FP.bdf...\n",
      "BDF file detected\n",
      "Setting channel info structure...\n",
      "Creating raw.info structure...\n",
      "Reading 0 ... 271359  =      0.000 ...   529.998 secs...\n"
     ]
    },
    {
     "name": "stderr",
     "output_type": "stream",
     "text": [
      "/workspaces/preprocessing_pipline/functions.py:24: FutureWarning: The 'delim_whitespace' keyword in pd.read_csv is deprecated and will be removed in a future version. Use ``sep='\\s+'`` instead\n",
      "  xyz_data = pd.read_csv(ch_location_path, delim_whitespace=True, skiprows=1, header=None)\n",
      "/workspaces/preprocessing_pipline/functions.py:18: RuntimeWarning: Number of records from the header does not match the file size (perhaps the recording was not stopped before exiting). Inferring from the file size.\n",
      "  raw = mne.io.read_raw(self.eeg_path, preload=True)\n"
     ]
    },
    {
     "name": "stdout",
     "output_type": "stream",
     "text": [
      "Trigger channel Status has a non-zero initial value of 65536 (consider using initial_event=True to detect this event)\n",
      "Removing orphaned offset at the beginning of the file.\n",
      "54 events found on stim channel Status\n",
      "Event IDs: [1 2]\n",
      "Error processing subject 603: metadata must have the same number of rows (108) as events (54)\n",
      "Processing subject 604 with LM cutoff 5...\n",
      "Extracting EDF parameters from /workspaces/preprocessing_pipline/Data/O_604_Def_LM.bdf...\n",
      "BDF file detected\n",
      "Setting channel info structure...\n",
      "Creating raw.info structure...\n",
      "Reading 0 ... 271359  =      0.000 ...   529.998 secs...\n"
     ]
    },
    {
     "name": "stderr",
     "output_type": "stream",
     "text": [
      "/workspaces/preprocessing_pipline/functions.py:24: FutureWarning: The 'delim_whitespace' keyword in pd.read_csv is deprecated and will be removed in a future version. Use ``sep='\\s+'`` instead\n",
      "  xyz_data = pd.read_csv(ch_location_path, delim_whitespace=True, skiprows=1, header=None)\n",
      "/workspaces/preprocessing_pipline/functions.py:18: RuntimeWarning: Number of records from the header does not match the file size (perhaps the recording was not stopped before exiting). Inferring from the file size.\n",
      "  raw = mne.io.read_raw(self.eeg_path, preload=True)\n"
     ]
    },
    {
     "name": "stdout",
     "output_type": "stream",
     "text": [
      "Trigger channel Status has a non-zero initial value of 65536 (consider using initial_event=True to detect this event)\n",
      "Removing orphaned offset at the beginning of the file.\n",
      "54 events found on stim channel Status\n",
      "Event IDs: [1 2]\n",
      "Error processing subject 604: metadata must have the same number of rows (108) as events (54)\n",
      "Processing subject 605 with LM cutoff 5...\n",
      "Extracting EDF parameters from /workspaces/preprocessing_pipline/Data/O_605_Def_CB.bdf...\n",
      "BDF file detected\n",
      "Setting channel info structure...\n",
      "Creating raw.info structure...\n",
      "Reading 0 ... 271359  =      0.000 ...   529.998 secs...\n"
     ]
    },
    {
     "name": "stderr",
     "output_type": "stream",
     "text": [
      "/workspaces/preprocessing_pipline/functions.py:24: FutureWarning: The 'delim_whitespace' keyword in pd.read_csv is deprecated and will be removed in a future version. Use ``sep='\\s+'`` instead\n",
      "  xyz_data = pd.read_csv(ch_location_path, delim_whitespace=True, skiprows=1, header=None)\n",
      "/workspaces/preprocessing_pipline/functions.py:18: RuntimeWarning: Number of records from the header does not match the file size (perhaps the recording was not stopped before exiting). Inferring from the file size.\n",
      "  raw = mne.io.read_raw(self.eeg_path, preload=True)\n"
     ]
    },
    {
     "name": "stdout",
     "output_type": "stream",
     "text": [
      "Trigger channel Status has a non-zero initial value of 65536 (consider using initial_event=True to detect this event)\n",
      "Removing orphaned offset at the beginning of the file.\n",
      "63 events found on stim channel Status\n",
      "Event IDs: [1 2]\n",
      "Error processing subject 605: metadata must have the same number of rows (108) as events (63)\n",
      "Processing subject 606 with LM cutoff 5...\n",
      "Extracting EDF parameters from /workspaces/preprocessing_pipline/Data/O_606_Def_YD.bdf...\n",
      "BDF file detected\n",
      "Setting channel info structure...\n",
      "Creating raw.info structure...\n",
      "Reading 0 ... 271359  =      0.000 ...   529.998 secs...\n"
     ]
    },
    {
     "name": "stderr",
     "output_type": "stream",
     "text": [
      "/workspaces/preprocessing_pipline/functions.py:24: FutureWarning: The 'delim_whitespace' keyword in pd.read_csv is deprecated and will be removed in a future version. Use ``sep='\\s+'`` instead\n",
      "  xyz_data = pd.read_csv(ch_location_path, delim_whitespace=True, skiprows=1, header=None)\n",
      "/workspaces/preprocessing_pipline/functions.py:18: RuntimeWarning: Number of records from the header does not match the file size (perhaps the recording was not stopped before exiting). Inferring from the file size.\n",
      "  raw = mne.io.read_raw(self.eeg_path, preload=True)\n"
     ]
    },
    {
     "name": "stdout",
     "output_type": "stream",
     "text": [
      "Trigger channel Status has a non-zero initial value of 65536 (consider using initial_event=True to detect this event)\n",
      "Removing orphaned offset at the beginning of the file.\n",
      "63 events found on stim channel Status\n",
      "Event IDs: [1 2]\n",
      "Error processing subject 606: metadata must have the same number of rows (108) as events (63)\n",
      "Processing subject 607 with LM cutoff 5...\n",
      "Extracting EDF parameters from /workspaces/preprocessing_pipline/Data/O_607_Def_LN.bdf...\n",
      "BDF file detected\n",
      "Setting channel info structure...\n",
      "Creating raw.info structure...\n",
      "Reading 0 ... 271359  =      0.000 ...   529.998 secs...\n"
     ]
    },
    {
     "name": "stderr",
     "output_type": "stream",
     "text": [
      "/workspaces/preprocessing_pipline/functions.py:24: FutureWarning: The 'delim_whitespace' keyword in pd.read_csv is deprecated and will be removed in a future version. Use ``sep='\\s+'`` instead\n",
      "  xyz_data = pd.read_csv(ch_location_path, delim_whitespace=True, skiprows=1, header=None)\n",
      "/workspaces/preprocessing_pipline/functions.py:18: RuntimeWarning: Number of records from the header does not match the file size (perhaps the recording was not stopped before exiting). Inferring from the file size.\n",
      "  raw = mne.io.read_raw(self.eeg_path, preload=True)\n"
     ]
    },
    {
     "name": "stdout",
     "output_type": "stream",
     "text": [
      "Trigger channel Status has a non-zero initial value of 65536 (consider using initial_event=True to detect this event)\n",
      "Removing orphaned offset at the beginning of the file.\n",
      "66 events found on stim channel Status\n",
      "Event IDs: [1 2]\n",
      "Error processing subject 607: metadata must have the same number of rows (108) as events (66)\n",
      "Processing subject 608 with LM cutoff 5...\n",
      "Extracting EDF parameters from /workspaces/preprocessing_pipline/Data/O_608_Def_MTB.bdf...\n",
      "BDF file detected\n",
      "Setting channel info structure...\n",
      "Creating raw.info structure...\n",
      "Reading 0 ... 271359  =      0.000 ...   529.998 secs...\n"
     ]
    },
    {
     "name": "stderr",
     "output_type": "stream",
     "text": [
      "/workspaces/preprocessing_pipline/functions.py:24: FutureWarning: The 'delim_whitespace' keyword in pd.read_csv is deprecated and will be removed in a future version. Use ``sep='\\s+'`` instead\n",
      "  xyz_data = pd.read_csv(ch_location_path, delim_whitespace=True, skiprows=1, header=None)\n",
      "/workspaces/preprocessing_pipline/functions.py:18: RuntimeWarning: Number of records from the header does not match the file size (perhaps the recording was not stopped before exiting). Inferring from the file size.\n",
      "  raw = mne.io.read_raw(self.eeg_path, preload=True)\n"
     ]
    },
    {
     "name": "stdout",
     "output_type": "stream",
     "text": [
      "Trigger channel Status has a non-zero initial value of 65536 (consider using initial_event=True to detect this event)\n",
      "Removing orphaned offset at the beginning of the file.\n",
      "66 events found on stim channel Status\n",
      "Event IDs: [1 2]\n",
      "Error processing subject 608: metadata must have the same number of rows (108) as events (66)\n",
      "Processing subject 609 with LM cutoff 5...\n",
      "Extracting EDF parameters from /workspaces/preprocessing_pipline/Data/O_609_Def_AL.bdf...\n",
      "BDF file detected\n",
      "Setting channel info structure...\n",
      "Creating raw.info structure...\n",
      "Reading 0 ... 271359  =      0.000 ...   529.998 secs...\n"
     ]
    },
    {
     "name": "stderr",
     "output_type": "stream",
     "text": [
      "/workspaces/preprocessing_pipline/functions.py:24: FutureWarning: The 'delim_whitespace' keyword in pd.read_csv is deprecated and will be removed in a future version. Use ``sep='\\s+'`` instead\n",
      "  xyz_data = pd.read_csv(ch_location_path, delim_whitespace=True, skiprows=1, header=None)\n",
      "/workspaces/preprocessing_pipline/functions.py:18: RuntimeWarning: Number of records from the header does not match the file size (perhaps the recording was not stopped before exiting). Inferring from the file size.\n",
      "  raw = mne.io.read_raw(self.eeg_path, preload=True)\n"
     ]
    },
    {
     "name": "stdout",
     "output_type": "stream",
     "text": [
      "Trigger channel Status has a non-zero initial value of 65536 (consider using initial_event=True to detect this event)\n",
      "Removing orphaned offset at the beginning of the file.\n",
      "65 events found on stim channel Status\n",
      "Event IDs: [1 2]\n",
      "Error processing subject 609: metadata must have the same number of rows (108) as events (65)\n",
      "Processing subject 610 with LM cutoff 5...\n",
      "Extracting EDF parameters from /workspaces/preprocessing_pipline/Data/O_610_Def_NR.bdf...\n",
      "BDF file detected\n",
      "Setting channel info structure...\n",
      "Creating raw.info structure...\n",
      "Reading 0 ... 271359  =      0.000 ...   529.998 secs...\n"
     ]
    },
    {
     "name": "stderr",
     "output_type": "stream",
     "text": [
      "/workspaces/preprocessing_pipline/functions.py:24: FutureWarning: The 'delim_whitespace' keyword in pd.read_csv is deprecated and will be removed in a future version. Use ``sep='\\s+'`` instead\n",
      "  xyz_data = pd.read_csv(ch_location_path, delim_whitespace=True, skiprows=1, header=None)\n",
      "/workspaces/preprocessing_pipline/functions.py:18: RuntimeWarning: Number of records from the header does not match the file size (perhaps the recording was not stopped before exiting). Inferring from the file size.\n",
      "  raw = mne.io.read_raw(self.eeg_path, preload=True)\n"
     ]
    },
    {
     "name": "stdout",
     "output_type": "stream",
     "text": [
      "Trigger channel Status has a non-zero initial value of 65536 (consider using initial_event=True to detect this event)\n",
      "Removing orphaned offset at the beginning of the file.\n",
      "66 events found on stim channel Status\n",
      "Event IDs: [1 2]\n",
      "Error processing subject 610: metadata must have the same number of rows (108) as events (66)\n",
      "Processing subject 611 with LM cutoff 5...\n",
      "Extracting EDF parameters from /workspaces/preprocessing_pipline/Data/O_611_Def_AB.bdf...\n",
      "BDF file detected\n",
      "Setting channel info structure...\n",
      "Creating raw.info structure...\n",
      "Reading 0 ... 271359  =      0.000 ...   529.998 secs...\n"
     ]
    },
    {
     "name": "stderr",
     "output_type": "stream",
     "text": [
      "/workspaces/preprocessing_pipline/functions.py:24: FutureWarning: The 'delim_whitespace' keyword in pd.read_csv is deprecated and will be removed in a future version. Use ``sep='\\s+'`` instead\n",
      "  xyz_data = pd.read_csv(ch_location_path, delim_whitespace=True, skiprows=1, header=None)\n",
      "/workspaces/preprocessing_pipline/functions.py:18: RuntimeWarning: Number of records from the header does not match the file size (perhaps the recording was not stopped before exiting). Inferring from the file size.\n",
      "  raw = mne.io.read_raw(self.eeg_path, preload=True)\n"
     ]
    },
    {
     "name": "stdout",
     "output_type": "stream",
     "text": [
      "Trigger channel Status has a non-zero initial value of 65536 (consider using initial_event=True to detect this event)\n",
      "Removing orphaned offset at the beginning of the file.\n",
      "65 events found on stim channel Status\n",
      "Event IDs: [1 2]\n",
      "Error processing subject 611: metadata must have the same number of rows (108) as events (65)\n",
      "Processing subject 612 with LM cutoff 5...\n",
      "Extracting EDF parameters from /workspaces/preprocessing_pipline/Data/O_612_Def_CS.bdf...\n",
      "BDF file detected\n",
      "Setting channel info structure...\n",
      "Creating raw.info structure...\n",
      "Reading 0 ... 271359  =      0.000 ...   529.998 secs...\n"
     ]
    },
    {
     "name": "stderr",
     "output_type": "stream",
     "text": [
      "/workspaces/preprocessing_pipline/functions.py:24: FutureWarning: The 'delim_whitespace' keyword in pd.read_csv is deprecated and will be removed in a future version. Use ``sep='\\s+'`` instead\n",
      "  xyz_data = pd.read_csv(ch_location_path, delim_whitespace=True, skiprows=1, header=None)\n",
      "/workspaces/preprocessing_pipline/functions.py:18: RuntimeWarning: Number of records from the header does not match the file size (perhaps the recording was not stopped before exiting). Inferring from the file size.\n",
      "  raw = mne.io.read_raw(self.eeg_path, preload=True)\n"
     ]
    },
    {
     "name": "stdout",
     "output_type": "stream",
     "text": [
      "Trigger channel Status has a non-zero initial value of 65536 (consider using initial_event=True to detect this event)\n",
      "Removing orphaned offset at the beginning of the file.\n",
      "63 events found on stim channel Status\n",
      "Event IDs: [1 2]\n",
      "Error processing subject 612: metadata must have the same number of rows (108) as events (63)\n",
      "Processing subject 613 with LM cutoff 5...\n",
      "Extracting EDF parameters from /workspaces/preprocessing_pipline/Data/O_613_Def_GS.bdf...\n",
      "BDF file detected\n",
      "Setting channel info structure...\n",
      "Creating raw.info structure...\n",
      "Reading 0 ... 271359  =      0.000 ...   529.998 secs...\n"
     ]
    },
    {
     "name": "stderr",
     "output_type": "stream",
     "text": [
      "/workspaces/preprocessing_pipline/functions.py:24: FutureWarning: The 'delim_whitespace' keyword in pd.read_csv is deprecated and will be removed in a future version. Use ``sep='\\s+'`` instead\n",
      "  xyz_data = pd.read_csv(ch_location_path, delim_whitespace=True, skiprows=1, header=None)\n",
      "/workspaces/preprocessing_pipline/functions.py:18: RuntimeWarning: Number of records from the header does not match the file size (perhaps the recording was not stopped before exiting). Inferring from the file size.\n",
      "  raw = mne.io.read_raw(self.eeg_path, preload=True)\n"
     ]
    },
    {
     "name": "stdout",
     "output_type": "stream",
     "text": [
      "Trigger channel Status has a non-zero initial value of 65536 (consider using initial_event=True to detect this event)\n",
      "Removing orphaned offset at the beginning of the file.\n",
      "65 events found on stim channel Status\n",
      "Event IDs: [1 2]\n",
      "Error processing subject 613: metadata must have the same number of rows (108) as events (65)\n",
      "Processing subject 614 with LM cutoff 5...\n",
      "Extracting EDF parameters from /workspaces/preprocessing_pipline/Data/O_614_Def_CT.bdf...\n",
      "BDF file detected\n",
      "Setting channel info structure...\n",
      "Creating raw.info structure...\n",
      "Reading 0 ... 271359  =      0.000 ...   529.998 secs...\n"
     ]
    },
    {
     "name": "stderr",
     "output_type": "stream",
     "text": [
      "/workspaces/preprocessing_pipline/functions.py:24: FutureWarning: The 'delim_whitespace' keyword in pd.read_csv is deprecated and will be removed in a future version. Use ``sep='\\s+'`` instead\n",
      "  xyz_data = pd.read_csv(ch_location_path, delim_whitespace=True, skiprows=1, header=None)\n",
      "/workspaces/preprocessing_pipline/functions.py:18: RuntimeWarning: Number of records from the header does not match the file size (perhaps the recording was not stopped before exiting). Inferring from the file size.\n",
      "  raw = mne.io.read_raw(self.eeg_path, preload=True)\n"
     ]
    },
    {
     "name": "stdout",
     "output_type": "stream",
     "text": [
      "Trigger channel Status has a non-zero initial value of 65536 (consider using initial_event=True to detect this event)\n",
      "Removing orphaned offset at the beginning of the file.\n",
      "64 events found on stim channel Status\n",
      "Event IDs: [1 2]\n",
      "Error processing subject 614: metadata must have the same number of rows (108) as events (64)\n",
      "Processing subject 615 with LM cutoff 5...\n",
      "Extracting EDF parameters from /workspaces/preprocessing_pipline/Data/O_615_Def_ND.bdf...\n",
      "BDF file detected\n",
      "Setting channel info structure...\n",
      "Creating raw.info structure...\n",
      "Reading 0 ... 271359  =      0.000 ...   529.998 secs...\n"
     ]
    },
    {
     "name": "stderr",
     "output_type": "stream",
     "text": [
      "/workspaces/preprocessing_pipline/functions.py:24: FutureWarning: The 'delim_whitespace' keyword in pd.read_csv is deprecated and will be removed in a future version. Use ``sep='\\s+'`` instead\n",
      "  xyz_data = pd.read_csv(ch_location_path, delim_whitespace=True, skiprows=1, header=None)\n",
      "/workspaces/preprocessing_pipline/functions.py:18: RuntimeWarning: Number of records from the header does not match the file size (perhaps the recording was not stopped before exiting). Inferring from the file size.\n",
      "  raw = mne.io.read_raw(self.eeg_path, preload=True)\n"
     ]
    },
    {
     "name": "stdout",
     "output_type": "stream",
     "text": [
      "Trigger channel Status has a non-zero initial value of 65536 (consider using initial_event=True to detect this event)\n",
      "Removing orphaned offset at the beginning of the file.\n",
      "64 events found on stim channel Status\n",
      "Event IDs: [1 2]\n",
      "Error processing subject 615: metadata must have the same number of rows (108) as events (64)\n",
      "Processing subject 616 with LM cutoff 5...\n",
      "Extracting EDF parameters from /workspaces/preprocessing_pipline/Data/O_616_Def_FM.bdf...\n",
      "BDF file detected\n",
      "Setting channel info structure...\n",
      "Creating raw.info structure...\n",
      "Reading 0 ... 271359  =      0.000 ...   529.998 secs...\n"
     ]
    },
    {
     "name": "stderr",
     "output_type": "stream",
     "text": [
      "/workspaces/preprocessing_pipline/functions.py:24: FutureWarning: The 'delim_whitespace' keyword in pd.read_csv is deprecated and will be removed in a future version. Use ``sep='\\s+'`` instead\n",
      "  xyz_data = pd.read_csv(ch_location_path, delim_whitespace=True, skiprows=1, header=None)\n",
      "/workspaces/preprocessing_pipline/functions.py:18: RuntimeWarning: Number of records from the header does not match the file size (perhaps the recording was not stopped before exiting). Inferring from the file size.\n",
      "  raw = mne.io.read_raw(self.eeg_path, preload=True)\n"
     ]
    },
    {
     "name": "stdout",
     "output_type": "stream",
     "text": [
      "Trigger channel Status has a non-zero initial value of 65536 (consider using initial_event=True to detect this event)\n",
      "Removing orphaned offset at the beginning of the file.\n",
      "64 events found on stim channel Status\n",
      "Event IDs: [1 2]\n",
      "Error processing subject 616: metadata must have the same number of rows (108) as events (64)\n",
      "Processing subject 617 with LM cutoff 5...\n",
      "Extracting EDF parameters from /workspaces/preprocessing_pipline/Data/O_617_Def_OF.bdf...\n",
      "BDF file detected\n",
      "Setting channel info structure...\n",
      "Creating raw.info structure...\n",
      "Reading 0 ... 271359  =      0.000 ...   529.998 secs...\n"
     ]
    },
    {
     "name": "stderr",
     "output_type": "stream",
     "text": [
      "/workspaces/preprocessing_pipline/functions.py:24: FutureWarning: The 'delim_whitespace' keyword in pd.read_csv is deprecated and will be removed in a future version. Use ``sep='\\s+'`` instead\n",
      "  xyz_data = pd.read_csv(ch_location_path, delim_whitespace=True, skiprows=1, header=None)\n",
      "/workspaces/preprocessing_pipline/functions.py:18: RuntimeWarning: Number of records from the header does not match the file size (perhaps the recording was not stopped before exiting). Inferring from the file size.\n",
      "  raw = mne.io.read_raw(self.eeg_path, preload=True)\n"
     ]
    },
    {
     "name": "stdout",
     "output_type": "stream",
     "text": [
      "Trigger channel Status has a non-zero initial value of 65536 (consider using initial_event=True to detect this event)\n",
      "Removing orphaned offset at the beginning of the file.\n",
      "64 events found on stim channel Status\n",
      "Event IDs: [1 2]\n",
      "Error processing subject 617: metadata must have the same number of rows (108) as events (64)\n",
      "Processing subject 601 with LM cutoff 16...\n",
      "Extracting EDF parameters from /workspaces/preprocessing_pipline/Data/O_601_Def_AM.bdf...\n",
      "BDF file detected\n",
      "Setting channel info structure...\n",
      "Creating raw.info structure...\n",
      "Reading 0 ... 271359  =      0.000 ...   529.998 secs...\n"
     ]
    },
    {
     "name": "stderr",
     "output_type": "stream",
     "text": [
      "/workspaces/preprocessing_pipline/functions.py:24: FutureWarning: The 'delim_whitespace' keyword in pd.read_csv is deprecated and will be removed in a future version. Use ``sep='\\s+'`` instead\n",
      "  xyz_data = pd.read_csv(ch_location_path, delim_whitespace=True, skiprows=1, header=None)\n",
      "/workspaces/preprocessing_pipline/functions.py:18: RuntimeWarning: Number of records from the header does not match the file size (perhaps the recording was not stopped before exiting). Inferring from the file size.\n",
      "  raw = mne.io.read_raw(self.eeg_path, preload=True)\n"
     ]
    },
    {
     "name": "stdout",
     "output_type": "stream",
     "text": [
      "Trigger channel Status has a non-zero initial value of 65536 (consider using initial_event=True to detect this event)\n",
      "Removing orphaned offset at the beginning of the file.\n",
      "59 events found on stim channel Status\n",
      "Event IDs: [1 2]\n",
      "Error processing subject 601: metadata must have the same number of rows (108) as events (59)\n",
      "Processing subject 602 with LM cutoff 16...\n",
      "Extracting EDF parameters from /workspaces/preprocessing_pipline/Data/O_602_Def_MM.bdf...\n",
      "BDF file detected\n",
      "Setting channel info structure...\n",
      "Creating raw.info structure...\n",
      "Reading 0 ... 271359  =      0.000 ...   529.998 secs...\n"
     ]
    },
    {
     "name": "stderr",
     "output_type": "stream",
     "text": [
      "/workspaces/preprocessing_pipline/functions.py:24: FutureWarning: The 'delim_whitespace' keyword in pd.read_csv is deprecated and will be removed in a future version. Use ``sep='\\s+'`` instead\n",
      "  xyz_data = pd.read_csv(ch_location_path, delim_whitespace=True, skiprows=1, header=None)\n",
      "/workspaces/preprocessing_pipline/functions.py:18: RuntimeWarning: Number of records from the header does not match the file size (perhaps the recording was not stopped before exiting). Inferring from the file size.\n",
      "  raw = mne.io.read_raw(self.eeg_path, preload=True)\n"
     ]
    },
    {
     "name": "stdout",
     "output_type": "stream",
     "text": [
      "Trigger channel Status has a non-zero initial value of 65536 (consider using initial_event=True to detect this event)\n",
      "Removing orphaned offset at the beginning of the file.\n",
      "65 events found on stim channel Status\n",
      "Event IDs: [1 2]\n",
      "Error processing subject 602: metadata must have the same number of rows (108) as events (65)\n",
      "Processing subject 603 with LM cutoff 16...\n",
      "Extracting EDF parameters from /workspaces/preprocessing_pipline/Data/o_603_Def_FP.bdf...\n",
      "BDF file detected\n",
      "Setting channel info structure...\n",
      "Creating raw.info structure...\n",
      "Reading 0 ... 271359  =      0.000 ...   529.998 secs...\n"
     ]
    },
    {
     "name": "stderr",
     "output_type": "stream",
     "text": [
      "/workspaces/preprocessing_pipline/functions.py:24: FutureWarning: The 'delim_whitespace' keyword in pd.read_csv is deprecated and will be removed in a future version. Use ``sep='\\s+'`` instead\n",
      "  xyz_data = pd.read_csv(ch_location_path, delim_whitespace=True, skiprows=1, header=None)\n",
      "/workspaces/preprocessing_pipline/functions.py:18: RuntimeWarning: Number of records from the header does not match the file size (perhaps the recording was not stopped before exiting). Inferring from the file size.\n",
      "  raw = mne.io.read_raw(self.eeg_path, preload=True)\n"
     ]
    },
    {
     "name": "stdout",
     "output_type": "stream",
     "text": [
      "Trigger channel Status has a non-zero initial value of 65536 (consider using initial_event=True to detect this event)\n",
      "Removing orphaned offset at the beginning of the file.\n",
      "54 events found on stim channel Status\n",
      "Event IDs: [1 2]\n",
      "Error processing subject 603: metadata must have the same number of rows (108) as events (54)\n",
      "Processing subject 604 with LM cutoff 16...\n",
      "Extracting EDF parameters from /workspaces/preprocessing_pipline/Data/O_604_Def_LM.bdf...\n",
      "BDF file detected\n",
      "Setting channel info structure...\n",
      "Creating raw.info structure...\n",
      "Reading 0 ... 271359  =      0.000 ...   529.998 secs...\n"
     ]
    },
    {
     "name": "stderr",
     "output_type": "stream",
     "text": [
      "/workspaces/preprocessing_pipline/functions.py:24: FutureWarning: The 'delim_whitespace' keyword in pd.read_csv is deprecated and will be removed in a future version. Use ``sep='\\s+'`` instead\n",
      "  xyz_data = pd.read_csv(ch_location_path, delim_whitespace=True, skiprows=1, header=None)\n",
      "/workspaces/preprocessing_pipline/functions.py:18: RuntimeWarning: Number of records from the header does not match the file size (perhaps the recording was not stopped before exiting). Inferring from the file size.\n",
      "  raw = mne.io.read_raw(self.eeg_path, preload=True)\n"
     ]
    },
    {
     "name": "stdout",
     "output_type": "stream",
     "text": [
      "Trigger channel Status has a non-zero initial value of 65536 (consider using initial_event=True to detect this event)\n",
      "Removing orphaned offset at the beginning of the file.\n",
      "54 events found on stim channel Status\n",
      "Event IDs: [1 2]\n",
      "Error processing subject 604: metadata must have the same number of rows (108) as events (54)\n",
      "Processing subject 605 with LM cutoff 16...\n",
      "Extracting EDF parameters from /workspaces/preprocessing_pipline/Data/O_605_Def_CB.bdf...\n",
      "BDF file detected\n",
      "Setting channel info structure...\n",
      "Creating raw.info structure...\n",
      "Reading 0 ... 271359  =      0.000 ...   529.998 secs...\n"
     ]
    },
    {
     "name": "stderr",
     "output_type": "stream",
     "text": [
      "/workspaces/preprocessing_pipline/functions.py:24: FutureWarning: The 'delim_whitespace' keyword in pd.read_csv is deprecated and will be removed in a future version. Use ``sep='\\s+'`` instead\n",
      "  xyz_data = pd.read_csv(ch_location_path, delim_whitespace=True, skiprows=1, header=None)\n",
      "/workspaces/preprocessing_pipline/functions.py:18: RuntimeWarning: Number of records from the header does not match the file size (perhaps the recording was not stopped before exiting). Inferring from the file size.\n",
      "  raw = mne.io.read_raw(self.eeg_path, preload=True)\n"
     ]
    },
    {
     "name": "stdout",
     "output_type": "stream",
     "text": [
      "Trigger channel Status has a non-zero initial value of 65536 (consider using initial_event=True to detect this event)\n",
      "Removing orphaned offset at the beginning of the file.\n",
      "63 events found on stim channel Status\n",
      "Event IDs: [1 2]\n",
      "Error processing subject 605: metadata must have the same number of rows (108) as events (63)\n",
      "Processing subject 606 with LM cutoff 16...\n",
      "Extracting EDF parameters from /workspaces/preprocessing_pipline/Data/O_606_Def_YD.bdf...\n",
      "BDF file detected\n",
      "Setting channel info structure...\n",
      "Creating raw.info structure...\n",
      "Reading 0 ... 271359  =      0.000 ...   529.998 secs...\n"
     ]
    },
    {
     "name": "stderr",
     "output_type": "stream",
     "text": [
      "/workspaces/preprocessing_pipline/functions.py:24: FutureWarning: The 'delim_whitespace' keyword in pd.read_csv is deprecated and will be removed in a future version. Use ``sep='\\s+'`` instead\n",
      "  xyz_data = pd.read_csv(ch_location_path, delim_whitespace=True, skiprows=1, header=None)\n",
      "/workspaces/preprocessing_pipline/functions.py:18: RuntimeWarning: Number of records from the header does not match the file size (perhaps the recording was not stopped before exiting). Inferring from the file size.\n",
      "  raw = mne.io.read_raw(self.eeg_path, preload=True)\n"
     ]
    },
    {
     "name": "stdout",
     "output_type": "stream",
     "text": [
      "Trigger channel Status has a non-zero initial value of 65536 (consider using initial_event=True to detect this event)\n",
      "Removing orphaned offset at the beginning of the file.\n",
      "63 events found on stim channel Status\n",
      "Event IDs: [1 2]\n",
      "Error processing subject 606: metadata must have the same number of rows (108) as events (63)\n",
      "Processing subject 607 with LM cutoff 16...\n",
      "Extracting EDF parameters from /workspaces/preprocessing_pipline/Data/O_607_Def_LN.bdf...\n",
      "BDF file detected\n",
      "Setting channel info structure...\n",
      "Creating raw.info structure...\n",
      "Reading 0 ... 271359  =      0.000 ...   529.998 secs...\n"
     ]
    },
    {
     "name": "stderr",
     "output_type": "stream",
     "text": [
      "/workspaces/preprocessing_pipline/functions.py:24: FutureWarning: The 'delim_whitespace' keyword in pd.read_csv is deprecated and will be removed in a future version. Use ``sep='\\s+'`` instead\n",
      "  xyz_data = pd.read_csv(ch_location_path, delim_whitespace=True, skiprows=1, header=None)\n",
      "/workspaces/preprocessing_pipline/functions.py:18: RuntimeWarning: Number of records from the header does not match the file size (perhaps the recording was not stopped before exiting). Inferring from the file size.\n",
      "  raw = mne.io.read_raw(self.eeg_path, preload=True)\n"
     ]
    },
    {
     "name": "stdout",
     "output_type": "stream",
     "text": [
      "Trigger channel Status has a non-zero initial value of 65536 (consider using initial_event=True to detect this event)\n",
      "Removing orphaned offset at the beginning of the file.\n",
      "66 events found on stim channel Status\n",
      "Event IDs: [1 2]\n",
      "Error processing subject 607: metadata must have the same number of rows (108) as events (66)\n",
      "Processing subject 608 with LM cutoff 16...\n",
      "Extracting EDF parameters from /workspaces/preprocessing_pipline/Data/O_608_Def_MTB.bdf...\n",
      "BDF file detected\n",
      "Setting channel info structure...\n",
      "Creating raw.info structure...\n",
      "Reading 0 ... 271359  =      0.000 ...   529.998 secs...\n"
     ]
    },
    {
     "name": "stderr",
     "output_type": "stream",
     "text": [
      "/workspaces/preprocessing_pipline/functions.py:24: FutureWarning: The 'delim_whitespace' keyword in pd.read_csv is deprecated and will be removed in a future version. Use ``sep='\\s+'`` instead\n",
      "  xyz_data = pd.read_csv(ch_location_path, delim_whitespace=True, skiprows=1, header=None)\n",
      "/workspaces/preprocessing_pipline/functions.py:18: RuntimeWarning: Number of records from the header does not match the file size (perhaps the recording was not stopped before exiting). Inferring from the file size.\n",
      "  raw = mne.io.read_raw(self.eeg_path, preload=True)\n"
     ]
    },
    {
     "name": "stdout",
     "output_type": "stream",
     "text": [
      "Trigger channel Status has a non-zero initial value of 65536 (consider using initial_event=True to detect this event)\n",
      "Removing orphaned offset at the beginning of the file.\n",
      "66 events found on stim channel Status\n",
      "Event IDs: [1 2]\n",
      "Error processing subject 608: metadata must have the same number of rows (108) as events (66)\n",
      "Processing subject 609 with LM cutoff 16...\n",
      "Extracting EDF parameters from /workspaces/preprocessing_pipline/Data/O_609_Def_AL.bdf...\n",
      "BDF file detected\n",
      "Setting channel info structure...\n",
      "Creating raw.info structure...\n",
      "Reading 0 ... 271359  =      0.000 ...   529.998 secs...\n"
     ]
    },
    {
     "name": "stderr",
     "output_type": "stream",
     "text": [
      "/workspaces/preprocessing_pipline/functions.py:24: FutureWarning: The 'delim_whitespace' keyword in pd.read_csv is deprecated and will be removed in a future version. Use ``sep='\\s+'`` instead\n",
      "  xyz_data = pd.read_csv(ch_location_path, delim_whitespace=True, skiprows=1, header=None)\n",
      "/workspaces/preprocessing_pipline/functions.py:18: RuntimeWarning: Number of records from the header does not match the file size (perhaps the recording was not stopped before exiting). Inferring from the file size.\n",
      "  raw = mne.io.read_raw(self.eeg_path, preload=True)\n"
     ]
    },
    {
     "name": "stdout",
     "output_type": "stream",
     "text": [
      "Trigger channel Status has a non-zero initial value of 65536 (consider using initial_event=True to detect this event)\n",
      "Removing orphaned offset at the beginning of the file.\n",
      "65 events found on stim channel Status\n",
      "Event IDs: [1 2]\n",
      "Error processing subject 609: metadata must have the same number of rows (108) as events (65)\n",
      "Processing subject 610 with LM cutoff 16...\n",
      "Extracting EDF parameters from /workspaces/preprocessing_pipline/Data/O_610_Def_NR.bdf...\n",
      "BDF file detected\n",
      "Setting channel info structure...\n",
      "Creating raw.info structure...\n",
      "Reading 0 ... 271359  =      0.000 ...   529.998 secs...\n"
     ]
    },
    {
     "name": "stderr",
     "output_type": "stream",
     "text": [
      "/workspaces/preprocessing_pipline/functions.py:24: FutureWarning: The 'delim_whitespace' keyword in pd.read_csv is deprecated and will be removed in a future version. Use ``sep='\\s+'`` instead\n",
      "  xyz_data = pd.read_csv(ch_location_path, delim_whitespace=True, skiprows=1, header=None)\n",
      "/workspaces/preprocessing_pipline/functions.py:18: RuntimeWarning: Number of records from the header does not match the file size (perhaps the recording was not stopped before exiting). Inferring from the file size.\n",
      "  raw = mne.io.read_raw(self.eeg_path, preload=True)\n"
     ]
    },
    {
     "name": "stdout",
     "output_type": "stream",
     "text": [
      "Trigger channel Status has a non-zero initial value of 65536 (consider using initial_event=True to detect this event)\n",
      "Removing orphaned offset at the beginning of the file.\n",
      "66 events found on stim channel Status\n",
      "Event IDs: [1 2]\n",
      "Error processing subject 610: metadata must have the same number of rows (108) as events (66)\n",
      "Processing subject 611 with LM cutoff 16...\n",
      "Extracting EDF parameters from /workspaces/preprocessing_pipline/Data/O_611_Def_AB.bdf...\n",
      "BDF file detected\n",
      "Setting channel info structure...\n",
      "Creating raw.info structure...\n",
      "Reading 0 ... 271359  =      0.000 ...   529.998 secs...\n"
     ]
    },
    {
     "name": "stderr",
     "output_type": "stream",
     "text": [
      "/workspaces/preprocessing_pipline/functions.py:24: FutureWarning: The 'delim_whitespace' keyword in pd.read_csv is deprecated and will be removed in a future version. Use ``sep='\\s+'`` instead\n",
      "  xyz_data = pd.read_csv(ch_location_path, delim_whitespace=True, skiprows=1, header=None)\n",
      "/workspaces/preprocessing_pipline/functions.py:18: RuntimeWarning: Number of records from the header does not match the file size (perhaps the recording was not stopped before exiting). Inferring from the file size.\n",
      "  raw = mne.io.read_raw(self.eeg_path, preload=True)\n"
     ]
    },
    {
     "name": "stdout",
     "output_type": "stream",
     "text": [
      "Trigger channel Status has a non-zero initial value of 65536 (consider using initial_event=True to detect this event)\n",
      "Removing orphaned offset at the beginning of the file.\n",
      "65 events found on stim channel Status\n",
      "Event IDs: [1 2]\n",
      "Error processing subject 611: metadata must have the same number of rows (108) as events (65)\n",
      "Processing subject 612 with LM cutoff 16...\n",
      "Extracting EDF parameters from /workspaces/preprocessing_pipline/Data/O_612_Def_CS.bdf...\n",
      "BDF file detected\n",
      "Setting channel info structure...\n",
      "Creating raw.info structure...\n",
      "Reading 0 ... 271359  =      0.000 ...   529.998 secs...\n"
     ]
    },
    {
     "name": "stderr",
     "output_type": "stream",
     "text": [
      "/workspaces/preprocessing_pipline/functions.py:24: FutureWarning: The 'delim_whitespace' keyword in pd.read_csv is deprecated and will be removed in a future version. Use ``sep='\\s+'`` instead\n",
      "  xyz_data = pd.read_csv(ch_location_path, delim_whitespace=True, skiprows=1, header=None)\n",
      "/workspaces/preprocessing_pipline/functions.py:18: RuntimeWarning: Number of records from the header does not match the file size (perhaps the recording was not stopped before exiting). Inferring from the file size.\n",
      "  raw = mne.io.read_raw(self.eeg_path, preload=True)\n"
     ]
    },
    {
     "name": "stdout",
     "output_type": "stream",
     "text": [
      "Trigger channel Status has a non-zero initial value of 65536 (consider using initial_event=True to detect this event)\n",
      "Removing orphaned offset at the beginning of the file.\n",
      "63 events found on stim channel Status\n",
      "Event IDs: [1 2]\n",
      "Error processing subject 612: metadata must have the same number of rows (108) as events (63)\n",
      "Processing subject 613 with LM cutoff 16...\n",
      "Extracting EDF parameters from /workspaces/preprocessing_pipline/Data/O_613_Def_GS.bdf...\n",
      "BDF file detected\n",
      "Setting channel info structure...\n",
      "Creating raw.info structure...\n",
      "Reading 0 ... 271359  =      0.000 ...   529.998 secs...\n"
     ]
    },
    {
     "name": "stderr",
     "output_type": "stream",
     "text": [
      "/workspaces/preprocessing_pipline/functions.py:24: FutureWarning: The 'delim_whitespace' keyword in pd.read_csv is deprecated and will be removed in a future version. Use ``sep='\\s+'`` instead\n",
      "  xyz_data = pd.read_csv(ch_location_path, delim_whitespace=True, skiprows=1, header=None)\n",
      "/workspaces/preprocessing_pipline/functions.py:18: RuntimeWarning: Number of records from the header does not match the file size (perhaps the recording was not stopped before exiting). Inferring from the file size.\n",
      "  raw = mne.io.read_raw(self.eeg_path, preload=True)\n"
     ]
    },
    {
     "name": "stdout",
     "output_type": "stream",
     "text": [
      "Trigger channel Status has a non-zero initial value of 65536 (consider using initial_event=True to detect this event)\n",
      "Removing orphaned offset at the beginning of the file.\n",
      "65 events found on stim channel Status\n",
      "Event IDs: [1 2]\n",
      "Error processing subject 613: metadata must have the same number of rows (108) as events (65)\n",
      "Processing subject 614 with LM cutoff 16...\n",
      "Extracting EDF parameters from /workspaces/preprocessing_pipline/Data/O_614_Def_CT.bdf...\n",
      "BDF file detected\n",
      "Setting channel info structure...\n",
      "Creating raw.info structure...\n",
      "Reading 0 ... 271359  =      0.000 ...   529.998 secs...\n"
     ]
    },
    {
     "name": "stderr",
     "output_type": "stream",
     "text": [
      "/workspaces/preprocessing_pipline/functions.py:24: FutureWarning: The 'delim_whitespace' keyword in pd.read_csv is deprecated and will be removed in a future version. Use ``sep='\\s+'`` instead\n",
      "  xyz_data = pd.read_csv(ch_location_path, delim_whitespace=True, skiprows=1, header=None)\n",
      "/workspaces/preprocessing_pipline/functions.py:18: RuntimeWarning: Number of records from the header does not match the file size (perhaps the recording was not stopped before exiting). Inferring from the file size.\n",
      "  raw = mne.io.read_raw(self.eeg_path, preload=True)\n"
     ]
    },
    {
     "name": "stdout",
     "output_type": "stream",
     "text": [
      "Trigger channel Status has a non-zero initial value of 65536 (consider using initial_event=True to detect this event)\n",
      "Removing orphaned offset at the beginning of the file.\n",
      "64 events found on stim channel Status\n",
      "Event IDs: [1 2]\n",
      "Error processing subject 614: metadata must have the same number of rows (108) as events (64)\n",
      "Processing subject 615 with LM cutoff 16...\n",
      "Extracting EDF parameters from /workspaces/preprocessing_pipline/Data/O_615_Def_ND.bdf...\n",
      "BDF file detected\n",
      "Setting channel info structure...\n",
      "Creating raw.info structure...\n",
      "Reading 0 ... 271359  =      0.000 ...   529.998 secs...\n"
     ]
    },
    {
     "name": "stderr",
     "output_type": "stream",
     "text": [
      "/workspaces/preprocessing_pipline/functions.py:24: FutureWarning: The 'delim_whitespace' keyword in pd.read_csv is deprecated and will be removed in a future version. Use ``sep='\\s+'`` instead\n",
      "  xyz_data = pd.read_csv(ch_location_path, delim_whitespace=True, skiprows=1, header=None)\n",
      "/workspaces/preprocessing_pipline/functions.py:18: RuntimeWarning: Number of records from the header does not match the file size (perhaps the recording was not stopped before exiting). Inferring from the file size.\n",
      "  raw = mne.io.read_raw(self.eeg_path, preload=True)\n"
     ]
    },
    {
     "name": "stdout",
     "output_type": "stream",
     "text": [
      "Trigger channel Status has a non-zero initial value of 65536 (consider using initial_event=True to detect this event)\n",
      "Removing orphaned offset at the beginning of the file.\n",
      "64 events found on stim channel Status\n",
      "Event IDs: [1 2]\n",
      "Error processing subject 615: metadata must have the same number of rows (108) as events (64)\n",
      "Processing subject 616 with LM cutoff 16...\n",
      "Extracting EDF parameters from /workspaces/preprocessing_pipline/Data/O_616_Def_FM.bdf...\n",
      "BDF file detected\n",
      "Setting channel info structure...\n",
      "Creating raw.info structure...\n",
      "Reading 0 ... 271359  =      0.000 ...   529.998 secs...\n"
     ]
    },
    {
     "name": "stderr",
     "output_type": "stream",
     "text": [
      "/workspaces/preprocessing_pipline/functions.py:24: FutureWarning: The 'delim_whitespace' keyword in pd.read_csv is deprecated and will be removed in a future version. Use ``sep='\\s+'`` instead\n",
      "  xyz_data = pd.read_csv(ch_location_path, delim_whitespace=True, skiprows=1, header=None)\n",
      "/workspaces/preprocessing_pipline/functions.py:18: RuntimeWarning: Number of records from the header does not match the file size (perhaps the recording was not stopped before exiting). Inferring from the file size.\n",
      "  raw = mne.io.read_raw(self.eeg_path, preload=True)\n"
     ]
    },
    {
     "name": "stdout",
     "output_type": "stream",
     "text": [
      "Trigger channel Status has a non-zero initial value of 65536 (consider using initial_event=True to detect this event)\n",
      "Removing orphaned offset at the beginning of the file.\n",
      "64 events found on stim channel Status\n",
      "Event IDs: [1 2]\n",
      "Error processing subject 616: metadata must have the same number of rows (108) as events (64)\n",
      "Processing subject 617 with LM cutoff 16...\n",
      "Extracting EDF parameters from /workspaces/preprocessing_pipline/Data/O_617_Def_OF.bdf...\n",
      "BDF file detected\n",
      "Setting channel info structure...\n",
      "Creating raw.info structure...\n",
      "Reading 0 ... 271359  =      0.000 ...   529.998 secs...\n"
     ]
    },
    {
     "name": "stderr",
     "output_type": "stream",
     "text": [
      "/workspaces/preprocessing_pipline/functions.py:24: FutureWarning: The 'delim_whitespace' keyword in pd.read_csv is deprecated and will be removed in a future version. Use ``sep='\\s+'`` instead\n",
      "  xyz_data = pd.read_csv(ch_location_path, delim_whitespace=True, skiprows=1, header=None)\n",
      "/workspaces/preprocessing_pipline/functions.py:18: RuntimeWarning: Number of records from the header does not match the file size (perhaps the recording was not stopped before exiting). Inferring from the file size.\n",
      "  raw = mne.io.read_raw(self.eeg_path, preload=True)\n"
     ]
    },
    {
     "name": "stdout",
     "output_type": "stream",
     "text": [
      "Trigger channel Status has a non-zero initial value of 65536 (consider using initial_event=True to detect this event)\n",
      "Removing orphaned offset at the beginning of the file.\n",
      "64 events found on stim channel Status\n",
      "Event IDs: [1 2]\n",
      "Error processing subject 617: metadata must have the same number of rows (108) as events (64)\n"
     ]
    },
    {
     "name": "stderr",
     "output_type": "stream",
     "text": [
      "/workspaces/preprocessing_pipline/functions.py:24: FutureWarning: The 'delim_whitespace' keyword in pd.read_csv is deprecated and will be removed in a future version. Use ``sep='\\s+'`` instead\n",
      "  xyz_data = pd.read_csv(ch_location_path, delim_whitespace=True, skiprows=1, header=None)\n"
     ]
    }
   ],
   "source": [
    "import sys\n",
    "import os\n",
    "import numpy as np\n",
    "import mne\n",
    "import matplotlib.pyplot as plt\n",
    "import pickle\n",
    "from collections import defaultdict\n",
    "\n",
    "# Add the workspace root to the Python path\n",
    "workspace_root = os.path.abspath(\"..\")\n",
    "if workspace_root not in sys.path:\n",
    "    sys.path.append(workspace_root)\n",
    "\n",
    "from functions import preprocess\n",
    "\n",
    "# List of subject IDs\n",
    "ids = list(range(601, 618))\n",
    "\n",
    "# Dictionary to store bridged channels for different LM cutoffs\n",
    "all_bridged_channels = {}\n",
    "\n",
    "# Define the two LM cutoff values to test\n",
    "lm_cutoffs = [5, 16]  # As mentioned in your variable\n",
    "\n",
    "for lm_cutoff in lm_cutoffs:\n",
    "    # Dictionary to store bridged channels for all subjects at this cutoff\n",
    "    bridged_channels_dict = {}\n",
    "    \n",
    "    for i, id in enumerate(ids):\n",
    "        try:\n",
    "            # Preprocess the data for each subject\n",
    "            print(f\"Processing subject {id} with LM cutoff {lm_cutoff}...\")\n",
    "            subject = preprocess(id)\n",
    "            epochs = subject.epoching(tmin=-0.2, tmax=0.8, baseline=(None, 0))\n",
    "            bridged_idx, ed_matrix, bridged_ch_names = subject.bridged_channels(\n",
    "                epochs, \n",
    "                lm_cutoff=lm_cutoff, \n",
    "                epoch_threshold=0.5\n",
    "            )\n",
    "            \n",
    "            # Save bridged channels information in the dictionary\n",
    "            bridged_channels_dict[id] = {\n",
    "                \"bridged_idx\": bridged_idx,\n",
    "                \"ed_matrix\": ed_matrix,\n",
    "                \"bridged_ch_names\": bridged_ch_names\n",
    "            }\n",
    "            print(f\"Found {len(bridged_ch_names)} bridged channels for subject {id}\")\n",
    "        except Exception as e:\n",
    "            print(f\"Error processing subject {id}: {e}\")\n",
    "            bridged_channels_dict[id] = {\n",
    "                \"bridged_idx\": [],\n",
    "                \"ed_matrix\": None,\n",
    "                \"bridged_ch_names\": [],\n",
    "                \"error\": str(e)\n",
    "            }\n",
    "    \n",
    "    # Store results for this LM cutoff\n",
    "    all_bridged_channels[lm_cutoff] = bridged_channels_dict\n",
    "\n",
    "# Save the results\n",
    "output_dir = os.path.join(workspace_root, \"results\")\n",
    "os.makedirs(output_dir, exist_ok=True)\n",
    "output_path = os.path.join(output_dir, \"bridged_channels_analysis.pkl\")\n",
    "with open(output_path, 'wb') as f:\n",
    "    pickle.dump(all_bridged_channels, f)\n"
   ]
  },
  {
   "cell_type": "code",
   "execution_count": 2,
   "id": "2053d6ca",
   "metadata": {},
   "outputs": [
    {
     "name": "stdout",
     "output_type": "stream",
     "text": [
      "Saved bridged channels analysis to /workspaces/preprocessing_pipline/results/bridged_channels_analysis.pkl\n"
     ]
    },
    {
     "data": {
      "image/png": "[encoded data removed]",
      "text/plain": [
       "<Figure size 1200x800 with 2 Axes>"
      ]
     },
     "metadata": {},
     "output_type": "display_data"
    },
    {
     "name": "stdout",
     "output_type": "stream",
     "text": [
      "Average number of bridged channels by LM cutoff:\n",
      "LM cutoff 5: 0.00 channels\n",
      "LM cutoff 16: 0.00 channels\n"
     ]
    }
   ],
   "source": [
    "with open(output_path, 'wb') as f:\n",
    "    pickle.dump(all_bridged_channels, f)\n",
    "\n",
    "print(f\"Saved bridged channels analysis to {output_path}\")\n",
    "\n",
    "# Visualization of results for both cutoffs\n",
    "plt.figure(figsize=(12, 8))\n",
    "\n",
    "for i, lm_cutoff in enumerate(lm_cutoffs):\n",
    "    bridged_channels_dict = all_bridged_channels[lm_cutoff]\n",
    "    subject_ids = list(bridged_channels_dict.keys())\n",
    "    \n",
    "    # Calculate number of bridged channels for each subject\n",
    "    num_bridged_channels = [len(bridged_channels_dict[id][\"bridged_ch_names\"]) \n",
    "                           for id in subject_ids]\n",
    "    \n",
    "    # Plot as subplot\n",
    "    plt.subplot(2, 1, i+1)\n",
    "    plt.bar(subject_ids, num_bridged_channels, color=['skyblue', 'lightgreen'][i])\n",
    "    plt.xlabel('Subject ID')\n",
    "    plt.ylabel('Number of Bridged Channels')\n",
    "    plt.title(f'Number of Bridged Channels per Subject (LM cutoff = {lm_cutoff})')\n",
    "    plt.xticks(subject_ids)\n",
    "    plt.grid(axis='y', linestyle='--', alpha=0.7)\n",
    "\n",
    "plt.tight_layout()\n",
    "plt.savefig(os.path.join(output_dir, \"bridged_channels_comparison.png\"))\n",
    "plt.show()\n",
    "\n",
    "# Compare average number of bridged channels between cutoffs\n",
    "avg_bridged_by_cutoff = {}\n",
    "for lm_cutoff in lm_cutoffs:\n",
    "    bridged_channels_dict = all_bridged_channels[lm_cutoff]\n",
    "    avg_num = np.mean([len(bridged_channels_dict[id][\"bridged_ch_names\"]) for id in bridged_channels_dict])\n",
    "    avg_bridged_by_cutoff[lm_cutoff] = avg_num\n",
    "    \n",
    "print(\"Average number of bridged channels by LM cutoff:\")\n",
    "for cutoff, avg in avg_bridged_by_cutoff.items():\n",
    "    print(f\"LM cutoff {cutoff}: {avg:.2f} channels\")"
   ]
  },
  {
   "cell_type": "code",
   "execution_count": null,
   "id": "beb69459",
   "metadata": {},
   "outputs": [],
   "source": [
    "# Extract the number of bridged channels for each subject\n",
    "subject_ids = list(bridged_channels_dict.keys())\n",
    "num_bridged_channels = [len(bridged_channels_dict[id][\"bridged_idx\"]) for id in subject_ids]\n",
    "\n",
    "# Plot the number of bridged channels\n",
    "plt.figure(figsize=(10, 6))\n",
    "plt.bar(subject_ids, num_bridged_channels, color='skyblue')\n",
    "plt.xlabel('Subject ID')\n",
    "plt.ylabel('Number of Bridged Channels')\n",
    "plt.title('Number of Bridged Channels per Subject')\n",
    "plt.xticks(subject_ids)\n",
    "plt.show()"
   ]
  },
  {
   "cell_type": "code",
   "execution_count": 2,
   "id": "da628152",
   "metadata": {},
   "outputs": [
    {
     "data": {
      "image/png": "[encoded data removed]",
      "text/plain": [
       "<Figure size 1000x600 with 1 Axes>"
      ]
     },
     "metadata": {},
     "output_type": "display_data"
    }
   ],
   "source": [
    "# Extract the number of bridged channels for each subject\n",
    "subject_ids = list(bridged_channels_dict.keys())\n",
    "num_bridged_channels = [len(bridged_channels_dict[id][\"bridged_ch_names\"]) for id in subject_ids]\n",
    "\n",
    "# Plot the number of bridged channels\n",
    "plt.figure(figsize=(10, 6))\n",
    "plt.bar(subject_ids, num_bridged_channels, color='skyblue')\n",
    "plt.xlabel('Subject ID')\n",
    "plt.ylabel('Number of Bridged Channels')\n",
    "plt.title('Number of Bridged Channels per Subject')\n",
    "plt.xticks(subject_ids)\n",
    "plt.show()"
   ]
  }
 ],
 "metadata": {
  "kernelspec": {
   "display_name": "eeg-preproc",
   "language": "python",
   "name": "python3"
  },
  "language_info": {
   "codemirror_mode": {
    "name": "ipython",
    "version": 3
   },
   "file_extension": ".py",
   "mimetype": "text/x-python",
   "name": "python",
   "nbconvert_exporter": "python",
   "pygments_lexer": "ipython3",
   "version": "3.10.16"
  }
 },
 "nbformat": 4,
 "nbformat_minor": 5
}
