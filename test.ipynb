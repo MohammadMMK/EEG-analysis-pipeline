{
 "cells": [
  {
   "cell_type": "code",
   "execution_count": 1,
   "id": "9d87109f",
   "metadata": {},
   "outputs": [
    {
     "name": "stdout",
     "output_type": "stream",
     "text": [
      "Extracting EDF parameters from c:\\Users\\gmoha\\Downloads\\git\\preprocessing_pipline\\Data\\O_601_Def_AM.bdf...\n",
      "BDF file detected\n",
      "Setting channel info structure...\n",
      "Creating raw.info structure...\n",
      "Reading 0 ... 478719  =      0.000 ...   934.998 secs...\n",
      "Extracting EDF parameters from c:\\Users\\gmoha\\Downloads\\git\\preprocessing_pipline\\Data\\O_601_Def_AM.bdf...\n",
      "BDF file detected\n",
      "Setting channel info structure...\n",
      "Creating raw.info structure...\n",
      "Reading 0 ... 478719  =      0.000 ...   934.998 secs...\n"
     ]
    },
    {
     "name": "stderr",
     "output_type": "stream",
     "text": [
      "c:\\Users\\gmoha\\Downloads\\git\\preprocessing_pipline\\functions.py:27: FutureWarning: The 'delim_whitespace' keyword in pd.read_csv is deprecated and will be removed in a future version. Use ``sep='\\s+'`` instead\n",
      "  xyz_data = pd.read_csv(ch_location_path, delim_whitespace=True, skiprows=1, header=None)\n",
      "c:\\Users\\gmoha\\Downloads\\git\\preprocessing_pipline\\functions.py:27: FutureWarning: The 'delim_whitespace' keyword in pd.read_csv is deprecated and will be removed in a future version. Use ``sep='\\s+'`` instead\n",
      "  xyz_data = pd.read_csv(ch_location_path, delim_whitespace=True, skiprows=1, header=None)\n"
     ]
    }
   ],
   "source": [
    "from functions import preprocess\n",
    "\n",
    "id = 601\n",
    "sub = preprocess(id)\n",
    "raw= sub.load_data()\n",
    "raw.close()"
   ]
  },
  {
   "cell_type": "code",
   "execution_count": null,
   "id": "dda77a74",
   "metadata": {},
   "outputs": [],
   "source": [
    "import \n",
    "\"\"\"Add montage to EEG data.\"\"\"\n",
    "ch_location_file = 'Head128elec.xyz'\n",
    "ch_location_path = os.path.join(data_path, ch_location_file)\n",
    "# Load channel locations and create montage\n",
    "xyz_data = pd.read_csv(ch_location_path, delim_whitespace=True, skiprows=1, header=None)\n",
    "rotated_montage = mne.channels.make_dig_montage(\n",
    "    ch_pos={name: R.from_euler('z', 90, degrees=True).apply(coord)  # Rotate 90 degrees\n",
    "            for name, coord in zip(xyz_data[3].values, xyz_data[[0, 1, 2]].values)},\n",
    "    coord_frame=\"head\"\n",
    ")"
   ]
  }
 ],
 "metadata": {
  "kernelspec": {
   "display_name": "BCLenv",
   "language": "python",
   "name": "python3"
  },
  "language_info": {
   "codemirror_mode": {
    "name": "ipython",
    "version": 3
   },
   "file_extension": ".py",
   "mimetype": "text/x-python",
   "name": "python",
   "nbconvert_exporter": "python",
   "pygments_lexer": "ipython3",
   "version": "3.10.16"
  }
 },
 "nbformat": 4,
 "nbformat_minor": 5
}
